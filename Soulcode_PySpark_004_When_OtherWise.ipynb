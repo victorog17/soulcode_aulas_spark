{
  "nbformat": 4,
  "nbformat_minor": 0,
  "metadata": {
    "colab": {
      "name": "Soulcode_PySpark_004_When_OtherWise.ipynb",
      "provenance": [],
      "mount_file_id": "1oGjlu2W8QofFtKfVlPok_aG7i6a-zBok",
      "authorship_tag": "ABX9TyPumoDZN7lHJUycpBrWGEhU",
      "include_colab_link": true
    },
    "kernelspec": {
      "name": "python3",
      "display_name": "Python 3"
    },
    "language_info": {
      "name": "python"
    }
  },
  "cells": [
    {
      "cell_type": "markdown",
      "metadata": {
        "id": "view-in-github",
        "colab_type": "text"
      },
      "source": [
        "<a href=\"https://colab.research.google.com/github/victorog17/soulcode_aulas_spark/blob/main/Soulcode_PySpark_004_When_OtherWise.ipynb\" target=\"_parent\"><img src=\"https://colab.research.google.com/assets/colab-badge.svg\" alt=\"Open In Colab\"/></a>"
      ]
    },
    {
      "cell_type": "markdown",
      "metadata": {
        "id": "0LUR2NU1yxrZ"
      },
      "source": [
        "**BIBLIOTECAS**"
      ]
    },
    {
      "cell_type": "code",
      "metadata": {
        "colab": {
          "base_uri": "https://localhost:8080/"
        },
        "id": "0aFBDvHgynJV",
        "outputId": "92ce50cc-71c0-4b36-c731-bf9790390416"
      },
      "source": [
        "pip install pyspark"
      ],
      "execution_count": 1,
      "outputs": [
        {
          "output_type": "stream",
          "name": "stdout",
          "text": [
            "Collecting pyspark\n",
            "  Downloading pyspark-3.2.0.tar.gz (281.3 MB)\n",
            "\u001b[K     |████████████████████████████████| 281.3 MB 36 kB/s \n",
            "\u001b[?25hCollecting py4j==0.10.9.2\n",
            "  Downloading py4j-0.10.9.2-py2.py3-none-any.whl (198 kB)\n",
            "\u001b[K     |████████████████████████████████| 198 kB 61.3 MB/s \n",
            "\u001b[?25hBuilding wheels for collected packages: pyspark\n",
            "  Building wheel for pyspark (setup.py) ... \u001b[?25l\u001b[?25hdone\n",
            "  Created wheel for pyspark: filename=pyspark-3.2.0-py2.py3-none-any.whl size=281805912 sha256=d244d5e7da5ff59fbb8a9b01d26fd109998f20c076602c7c6aaa0fef6ec36620\n",
            "  Stored in directory: /root/.cache/pip/wheels/0b/de/d2/9be5d59d7331c6c2a7c1b6d1a4f463ce107332b1ecd4e80718\n",
            "Successfully built pyspark\n",
            "Installing collected packages: py4j, pyspark\n",
            "Successfully installed py4j-0.10.9.2 pyspark-3.2.0\n"
          ]
        }
      ]
    },
    {
      "cell_type": "code",
      "metadata": {
        "id": "0165zJBpy1Ua"
      },
      "source": [
        "from pyspark.sql import SparkSession\n",
        "import pyspark.sql.functions as F"
      ],
      "execution_count": 2,
      "outputs": []
    },
    {
      "cell_type": "markdown",
      "metadata": {
        "id": "FQOPPueny45Z"
      },
      "source": [
        "**CONFIGURAR A NOSSA SPARKSESSION**"
      ]
    },
    {
      "cell_type": "code",
      "metadata": {
        "id": "37V5jb0Py2zi"
      },
      "source": [
        "spark = (SparkSession.builder\\\n",
        "        .master(\"local\")\\\n",
        "        .appName(\"dataframe_withcolumn\")\\\n",
        "        .config(\"spark.ui.port\", \"4050\")\\\n",
        "        .getOrCreate())"
      ],
      "execution_count": 3,
      "outputs": []
    },
    {
      "cell_type": "code",
      "metadata": {
        "colab": {
          "base_uri": "https://localhost:8080/",
          "height": 221
        },
        "id": "d2Nu2fnmzBu_",
        "outputId": "67a6fa76-31f7-4aae-915e-663e14f08773"
      },
      "source": [
        "spark"
      ],
      "execution_count": 4,
      "outputs": [
        {
          "output_type": "execute_result",
          "data": {
            "text/html": [
              "\n",
              "            <div>\n",
              "                <p><b>SparkSession - in-memory</b></p>\n",
              "                \n",
              "        <div>\n",
              "            <p><b>SparkContext</b></p>\n",
              "\n",
              "            <p><a href=\"http://0c92da992f85:4050\">Spark UI</a></p>\n",
              "\n",
              "            <dl>\n",
              "              <dt>Version</dt>\n",
              "                <dd><code>v3.2.0</code></dd>\n",
              "              <dt>Master</dt>\n",
              "                <dd><code>local</code></dd>\n",
              "              <dt>AppName</dt>\n",
              "                <dd><code>dataframe_withcolumn</code></dd>\n",
              "            </dl>\n",
              "        </div>\n",
              "        \n",
              "            </div>\n",
              "        "
            ],
            "text/plain": [
              "<pyspark.sql.session.SparkSession at 0x7f6eca507610>"
            ]
          },
          "metadata": {},
          "execution_count": 4
        }
      ]
    },
    {
      "cell_type": "markdown",
      "metadata": {
        "id": "2uWS8tl9zASC"
      },
      "source": [
        "**IMPORTANDO CSV NO PYSPARK**"
      ]
    },
    {
      "cell_type": "code",
      "metadata": {
        "colab": {
          "base_uri": "https://localhost:8080/"
        },
        "id": "bqr9nG2LzBKx",
        "outputId": "bbb7726e-b89b-422a-8272-84443ff0c77a"
      },
      "source": [
        "df1 = (spark\n",
        "      .read\n",
        "      .format(\"csv\")\n",
        "      .option(\"header\", \"true\")\n",
        "      .option(\"inferschema\", \"true\")\n",
        "      .option(\"delimiter\", \";\")\n",
        "      .load(\"/content/drive/MyDrive/Soul_Code_Academy/repositorio_pandas/arquivo_geral.csv\")\n",
        ")\n",
        "df1.show(5)\n",
        "df1.printSchema()"
      ],
      "execution_count": 5,
      "outputs": [
        {
          "output_type": "stream",
          "name": "stdout",
          "text": [
            "+------+------+----------+----------+---------------+-----------+----------------+\n",
            "|regiao|estado|      data|casosNovos|casosAcumulados|obitosNovos|obitosAcumulados|\n",
            "+------+------+----------+----------+---------------+-----------+----------------+\n",
            "| Norte|    RO|2020-01-30|         0|              0|          0|               0|\n",
            "| Norte|    RO|2020-01-31|         0|              0|          0|               0|\n",
            "| Norte|    RO|2020-02-01|         0|              0|          0|               0|\n",
            "| Norte|    RO|2020-02-02|         0|              0|          0|               0|\n",
            "| Norte|    RO|2020-02-03|         0|              0|          0|               0|\n",
            "+------+------+----------+----------+---------------+-----------+----------------+\n",
            "only showing top 5 rows\n",
            "\n",
            "root\n",
            " |-- regiao: string (nullable = true)\n",
            " |-- estado: string (nullable = true)\n",
            " |-- data: string (nullable = true)\n",
            " |-- casosNovos: integer (nullable = true)\n",
            " |-- casosAcumulados: integer (nullable = true)\n",
            " |-- obitosNovos: integer (nullable = true)\n",
            " |-- obitosAcumulados: integer (nullable = true)\n",
            "\n"
          ]
        }
      ]
    },
    {
      "cell_type": "markdown",
      "metadata": {
        "id": "sKfj5Se5zLNv"
      },
      "source": [
        "**WHEN - OTHERWISE**\n",
        "\n",
        "CRIAR UMA NOVA COLUNA COM AS SEGUINTES CONDIÇÕES:\n",
        "\n",
        "CASO O NÚMERO DE CASOS SEJA MAIOR DO QUE ZERO, COLOCAR O TEXTO TEM CASOS NOVOS\n",
        "\n",
        "CASO O NÚMERO DE CASOS NÃO SEJA MAIOR DO QUE ZERO, COLOCAR O TEXTO SEM CASOS NOVOS"
      ]
    },
    {
      "cell_type": "code",
      "metadata": {
        "colab": {
          "base_uri": "https://localhost:8080/"
        },
        "id": "huid3xk4zNV5",
        "outputId": "816563ee-a569-4995-a1e1-210e4dc37b1f"
      },
      "source": [
        "df2 = (df1.withColumn(\"status\", F.when(F.col(\"casosNovos\") > 0, \"Tem casos novos\")\n",
        "          .otherwise(\"Sem casos novos\")))\n",
        "\n",
        "#df2.select(F.col(\"regiao\"), F.col(\"estado\"), F.col(\"casosNovos\"), F.col(\"status\")).show(10)\n",
        "df2.select(df2['regiao'], df2['estado'], df2['casosNovos'], df2['status']).show(10)"
      ],
      "execution_count": 13,
      "outputs": [
        {
          "output_type": "stream",
          "name": "stdout",
          "text": [
            "+------+------+----------+---------------+\n",
            "|regiao|estado|casosNovos|         status|\n",
            "+------+------+----------+---------------+\n",
            "| Norte|    RO|         0|Sem casos novos|\n",
            "| Norte|    RO|         0|Sem casos novos|\n",
            "| Norte|    RO|         0|Sem casos novos|\n",
            "| Norte|    RO|         0|Sem casos novos|\n",
            "| Norte|    RO|         0|Sem casos novos|\n",
            "| Norte|    RO|         0|Sem casos novos|\n",
            "| Norte|    RO|         0|Sem casos novos|\n",
            "| Norte|    RO|         0|Sem casos novos|\n",
            "| Norte|    RO|         0|Sem casos novos|\n",
            "| Norte|    RO|         0|Sem casos novos|\n",
            "+------+------+----------+---------------+\n",
            "only showing top 10 rows\n",
            "\n"
          ]
        }
      ]
    },
    {
      "cell_type": "code",
      "metadata": {
        "colab": {
          "base_uri": "https://localhost:8080/"
        },
        "id": "K4YNI_4Z1GK0",
        "outputId": "393f0146-5d74-492a-e1d8-ef8ed7f1ab98"
      },
      "source": [
        "df2.show(5)"
      ],
      "execution_count": 14,
      "outputs": [
        {
          "output_type": "stream",
          "name": "stdout",
          "text": [
            "+------+------+----------+----------+---------------+-----------+----------------+---------------+\n",
            "|regiao|estado|      data|casosNovos|casosAcumulados|obitosNovos|obitosAcumulados|         status|\n",
            "+------+------+----------+----------+---------------+-----------+----------------+---------------+\n",
            "| Norte|    RO|2020-01-30|         0|              0|          0|               0|Sem casos novos|\n",
            "| Norte|    RO|2020-01-31|         0|              0|          0|               0|Sem casos novos|\n",
            "| Norte|    RO|2020-02-01|         0|              0|          0|               0|Sem casos novos|\n",
            "| Norte|    RO|2020-02-02|         0|              0|          0|               0|Sem casos novos|\n",
            "| Norte|    RO|2020-02-03|         0|              0|          0|               0|Sem casos novos|\n",
            "+------+------+----------+----------+---------------+-----------+----------------+---------------+\n",
            "only showing top 5 rows\n",
            "\n"
          ]
        }
      ]
    },
    {
      "cell_type": "markdown",
      "metadata": {
        "id": "3Luos92w2Li7"
      },
      "source": [
        "**PASSANDO A QUANTIDADE DE CASOS NOVOS E CONCATENANDO COM O TEXTO \"CASOS NOVOS\"**"
      ]
    },
    {
      "cell_type": "code",
      "metadata": {
        "id": "CEXoQs0o2hKy"
      },
      "source": [
        "df3 = (df1.withColumn(\"status\",\n",
        "          F.when(F.col(\"casosNovos\") > 0, F.concat(df1.casosNovos, F.lit(\" - Tem casos novos\")))\n",
        "          .otherwise(\"Não tem casos novos\")))"
      ],
      "execution_count": 19,
      "outputs": []
    },
    {
      "cell_type": "code",
      "metadata": {
        "colab": {
          "base_uri": "https://localhost:8080/"
        },
        "id": "7CvqO3qa3cre",
        "outputId": "d9db641e-5248-47bf-c2ec-a2d601da6c8e"
      },
      "source": [
        "df3.select(F.col(\"data\"), F.col(\"casosNovos\"), F.col(\"status\")).show(500)\n",
        "#df3.show(500)"
      ],
      "execution_count": 21,
      "outputs": [
        {
          "output_type": "stream",
          "name": "stdout",
          "text": [
            "+----------+----------+--------------------+\n",
            "|      data|casosNovos|              status|\n",
            "+----------+----------+--------------------+\n",
            "|2020-01-30|         0| Não tem casos novos|\n",
            "|2020-01-31|         0| Não tem casos novos|\n",
            "|2020-02-01|         0| Não tem casos novos|\n",
            "|2020-02-02|         0| Não tem casos novos|\n",
            "|2020-02-03|         0| Não tem casos novos|\n",
            "|2020-02-04|         0| Não tem casos novos|\n",
            "|2020-02-05|         0| Não tem casos novos|\n",
            "|2020-02-06|         0| Não tem casos novos|\n",
            "|2020-02-07|         0| Não tem casos novos|\n",
            "|2020-02-08|         0| Não tem casos novos|\n",
            "|2020-02-09|         0| Não tem casos novos|\n",
            "|2020-02-10|         0| Não tem casos novos|\n",
            "|2020-02-11|         0| Não tem casos novos|\n",
            "|2020-02-12|         0| Não tem casos novos|\n",
            "|2020-02-13|         0| Não tem casos novos|\n",
            "|2020-02-14|         0| Não tem casos novos|\n",
            "|2020-02-15|         0| Não tem casos novos|\n",
            "|2020-02-16|         0| Não tem casos novos|\n",
            "|2020-02-17|         0| Não tem casos novos|\n",
            "|2020-02-18|         0| Não tem casos novos|\n",
            "|2020-02-19|         0| Não tem casos novos|\n",
            "|2020-02-20|         0| Não tem casos novos|\n",
            "|2020-02-21|         0| Não tem casos novos|\n",
            "|2020-02-22|         0| Não tem casos novos|\n",
            "|2020-02-23|         0| Não tem casos novos|\n",
            "|2020-02-24|         0| Não tem casos novos|\n",
            "|2020-02-25|         0| Não tem casos novos|\n",
            "|2020-02-26|         0| Não tem casos novos|\n",
            "|2020-02-27|         0| Não tem casos novos|\n",
            "|2020-02-28|         0| Não tem casos novos|\n",
            "|2020-02-29|         0| Não tem casos novos|\n",
            "|2020-03-01|         0| Não tem casos novos|\n",
            "|2020-03-02|         0| Não tem casos novos|\n",
            "|2020-03-03|         0| Não tem casos novos|\n",
            "|2020-03-04|         0| Não tem casos novos|\n",
            "|2020-03-05|         0| Não tem casos novos|\n",
            "|2020-03-06|         0| Não tem casos novos|\n",
            "|2020-03-07|         0| Não tem casos novos|\n",
            "|2020-03-08|         0| Não tem casos novos|\n",
            "|2020-03-09|         0| Não tem casos novos|\n",
            "|2020-03-10|         0| Não tem casos novos|\n",
            "|2020-03-11|         0| Não tem casos novos|\n",
            "|2020-03-12|         0| Não tem casos novos|\n",
            "|2020-03-13|         0| Não tem casos novos|\n",
            "|2020-03-14|         0| Não tem casos novos|\n",
            "|2020-03-15|         0| Não tem casos novos|\n",
            "|2020-03-16|         0| Não tem casos novos|\n",
            "|2020-03-17|         0| Não tem casos novos|\n",
            "|2020-03-18|         0| Não tem casos novos|\n",
            "|2020-03-19|         0| Não tem casos novos|\n",
            "|2020-03-20|         1| 1 - Tem casos novos|\n",
            "|2020-03-21|         0| Não tem casos novos|\n",
            "|2020-03-22|         2| 2 - Tem casos novos|\n",
            "|2020-03-23|         0| Não tem casos novos|\n",
            "|2020-03-24|         0| Não tem casos novos|\n",
            "|2020-03-25|         2| 2 - Tem casos novos|\n",
            "|2020-03-26|         0| Não tem casos novos|\n",
            "|2020-03-27|         1| 1 - Tem casos novos|\n",
            "|2020-03-28|         0| Não tem casos novos|\n",
            "|2020-03-29|         0| Não tem casos novos|\n",
            "|2020-03-30|         0| Não tem casos novos|\n",
            "|2020-03-31|         2| 2 - Tem casos novos|\n",
            "|2020-04-01|         1| 1 - Tem casos novos|\n",
            "|2020-04-02|         1| 1 - Tem casos novos|\n",
            "|2020-04-03|         0| Não tem casos novos|\n",
            "|2020-04-04|         1| 1 - Tem casos novos|\n",
            "|2020-04-05|         1| 1 - Tem casos novos|\n",
            "|2020-04-06|         2| 2 - Tem casos novos|\n",
            "|2020-04-07|         4| 4 - Tem casos novos|\n",
            "|2020-04-08|         0| Não tem casos novos|\n",
            "|2020-04-09|        10|10 - Tem casos novos|\n",
            "|2020-04-10|         4| 4 - Tem casos novos|\n",
            "|2020-04-11|         1| 1 - Tem casos novos|\n",
            "|2020-04-12|         2| 2 - Tem casos novos|\n",
            "|2020-04-13|         7| 7 - Tem casos novos|\n",
            "|2020-04-14|        22|22 - Tem casos novos|\n",
            "|2020-04-15|         5| 5 - Tem casos novos|\n",
            "|2020-04-16|         7| 7 - Tem casos novos|\n",
            "|2020-04-17|        16|16 - Tem casos novos|\n",
            "|2020-04-18|        18|18 - Tem casos novos|\n",
            "|2020-04-19|        18|18 - Tem casos novos|\n",
            "|2020-04-20|        32|32 - Tem casos novos|\n",
            "|2020-04-21|        39|39 - Tem casos novos|\n",
            "|2020-04-22|        24|24 - Tem casos novos|\n",
            "|2020-04-23|        27|27 - Tem casos novos|\n",
            "|2020-04-24|        40|40 - Tem casos novos|\n",
            "|2020-04-25|        38|38 - Tem casos novos|\n",
            "|2020-01-30|         0| Não tem casos novos|\n",
            "|2020-01-31|         0| Não tem casos novos|\n",
            "|2020-02-01|         0| Não tem casos novos|\n",
            "|2020-02-02|         0| Não tem casos novos|\n",
            "|2020-02-03|         0| Não tem casos novos|\n",
            "|2020-02-04|         0| Não tem casos novos|\n",
            "|2020-02-05|         0| Não tem casos novos|\n",
            "|2020-02-06|         0| Não tem casos novos|\n",
            "|2020-02-07|         0| Não tem casos novos|\n",
            "|2020-02-08|         0| Não tem casos novos|\n",
            "|2020-02-09|         0| Não tem casos novos|\n",
            "|2020-02-10|         0| Não tem casos novos|\n",
            "|2020-02-11|         0| Não tem casos novos|\n",
            "|2020-02-12|         0| Não tem casos novos|\n",
            "|2020-02-13|         0| Não tem casos novos|\n",
            "|2020-02-14|         0| Não tem casos novos|\n",
            "|2020-02-15|         0| Não tem casos novos|\n",
            "|2020-02-16|         0| Não tem casos novos|\n",
            "|2020-02-17|         0| Não tem casos novos|\n",
            "|2020-02-18|         0| Não tem casos novos|\n",
            "|2020-02-19|         0| Não tem casos novos|\n",
            "|2020-02-20|         0| Não tem casos novos|\n",
            "|2020-02-21|         0| Não tem casos novos|\n",
            "|2020-02-22|         0| Não tem casos novos|\n",
            "|2020-02-23|         0| Não tem casos novos|\n",
            "|2020-02-24|         0| Não tem casos novos|\n",
            "|2020-02-25|         0| Não tem casos novos|\n",
            "|2020-02-26|         0| Não tem casos novos|\n",
            "|2020-02-27|         0| Não tem casos novos|\n",
            "|2020-02-28|         0| Não tem casos novos|\n",
            "|2020-02-29|         0| Não tem casos novos|\n",
            "|2020-03-01|         0| Não tem casos novos|\n",
            "|2020-03-02|         0| Não tem casos novos|\n",
            "|2020-03-03|         0| Não tem casos novos|\n",
            "|2020-03-04|         0| Não tem casos novos|\n",
            "|2020-03-05|         0| Não tem casos novos|\n",
            "|2020-03-06|         0| Não tem casos novos|\n",
            "|2020-03-07|         0| Não tem casos novos|\n",
            "|2020-03-08|         0| Não tem casos novos|\n",
            "|2020-03-09|         0| Não tem casos novos|\n",
            "|2020-03-10|         0| Não tem casos novos|\n",
            "|2020-03-11|         0| Não tem casos novos|\n",
            "|2020-03-12|         0| Não tem casos novos|\n",
            "|2020-03-13|         0| Não tem casos novos|\n",
            "|2020-03-14|         0| Não tem casos novos|\n",
            "|2020-03-15|         0| Não tem casos novos|\n",
            "|2020-03-16|         0| Não tem casos novos|\n",
            "|2020-03-17|         0| Não tem casos novos|\n",
            "|2020-03-18|         0| Não tem casos novos|\n",
            "|2020-03-19|         3| 3 - Tem casos novos|\n",
            "|2020-03-20|         4| 4 - Tem casos novos|\n",
            "|2020-03-21|         2| 2 - Tem casos novos|\n",
            "|2020-03-22|         2| 2 - Tem casos novos|\n",
            "|2020-03-23|         0| Não tem casos novos|\n",
            "|2020-03-24|         6| 6 - Tem casos novos|\n",
            "|2020-03-25|         6| 6 - Tem casos novos|\n",
            "|2020-03-26|         1| 1 - Tem casos novos|\n",
            "|2020-03-27|         1| 1 - Tem casos novos|\n",
            "|2020-03-28|         0| Não tem casos novos|\n",
            "|2020-03-29|         9| 9 - Tem casos novos|\n",
            "|2020-03-30|         8| 8 - Tem casos novos|\n",
            "|2020-03-31|         0| Não tem casos novos|\n",
            "|2020-04-01|         1| 1 - Tem casos novos|\n",
            "|2020-04-02|         0| Não tem casos novos|\n",
            "|2020-04-03|         3| 3 - Tem casos novos|\n",
            "|2020-04-04|         0| Não tem casos novos|\n",
            "|2020-04-05|         2| 2 - Tem casos novos|\n",
            "|2020-04-06|         2| 2 - Tem casos novos|\n",
            "|2020-04-07|         0| Não tem casos novos|\n",
            "|2020-04-08|         4| 4 - Tem casos novos|\n",
            "|2020-04-09|         8| 8 - Tem casos novos|\n",
            "|2020-04-10|         8| 8 - Tem casos novos|\n",
            "|2020-04-11|         2| 2 - Tem casos novos|\n",
            "|2020-04-12|         5| 5 - Tem casos novos|\n",
            "|2020-04-13|        13|13 - Tem casos novos|\n",
            "|2020-04-14|         9| 9 - Tem casos novos|\n",
            "|2020-04-15|         2| 2 - Tem casos novos|\n",
            "|2020-04-16|         9| 9 - Tem casos novos|\n",
            "|2020-04-17|        25|25 - Tem casos novos|\n",
            "|2020-04-18|         7| 7 - Tem casos novos|\n",
            "|2020-04-19|        21|21 - Tem casos novos|\n",
            "|2020-04-20|        13|13 - Tem casos novos|\n",
            "|2020-04-21|        19|19 - Tem casos novos|\n",
            "|2020-04-22|        19|19 - Tem casos novos|\n",
            "|2020-04-23|        13|13 - Tem casos novos|\n",
            "|2020-04-24|         7| 7 - Tem casos novos|\n",
            "|2020-04-25|        24|24 - Tem casos novos|\n",
            "|2020-01-30|         0| Não tem casos novos|\n",
            "|2020-01-31|         0| Não tem casos novos|\n",
            "|2020-02-01|         0| Não tem casos novos|\n",
            "|2020-02-02|         0| Não tem casos novos|\n",
            "|2020-02-03|         0| Não tem casos novos|\n",
            "|2020-02-04|         0| Não tem casos novos|\n",
            "|2020-02-05|         0| Não tem casos novos|\n",
            "|2020-02-06|         0| Não tem casos novos|\n",
            "|2020-02-07|         0| Não tem casos novos|\n",
            "|2020-02-08|         0| Não tem casos novos|\n",
            "|2020-02-09|         0| Não tem casos novos|\n",
            "|2020-02-10|         0| Não tem casos novos|\n",
            "|2020-02-11|         0| Não tem casos novos|\n",
            "|2020-02-12|         0| Não tem casos novos|\n",
            "|2020-02-13|         0| Não tem casos novos|\n",
            "|2020-02-14|         0| Não tem casos novos|\n",
            "|2020-02-15|         0| Não tem casos novos|\n",
            "|2020-02-16|         0| Não tem casos novos|\n",
            "|2020-02-17|         0| Não tem casos novos|\n",
            "|2020-02-18|         0| Não tem casos novos|\n",
            "|2020-02-19|         0| Não tem casos novos|\n",
            "|2020-02-20|         0| Não tem casos novos|\n",
            "|2020-02-21|         0| Não tem casos novos|\n",
            "|2020-02-22|         0| Não tem casos novos|\n",
            "|2020-02-23|         0| Não tem casos novos|\n",
            "|2020-02-24|         0| Não tem casos novos|\n",
            "|2020-02-25|         0| Não tem casos novos|\n",
            "|2020-02-26|         0| Não tem casos novos|\n",
            "|2020-02-27|         0| Não tem casos novos|\n",
            "|2020-02-28|         0| Não tem casos novos|\n",
            "|2020-02-29|         0| Não tem casos novos|\n",
            "|2020-03-01|         0| Não tem casos novos|\n",
            "|2020-03-02|         0| Não tem casos novos|\n",
            "|2020-03-03|         0| Não tem casos novos|\n",
            "|2020-03-04|         0| Não tem casos novos|\n",
            "|2020-03-05|         0| Não tem casos novos|\n",
            "|2020-03-06|         0| Não tem casos novos|\n",
            "|2020-03-07|         0| Não tem casos novos|\n",
            "|2020-03-08|         0| Não tem casos novos|\n",
            "|2020-03-09|         0| Não tem casos novos|\n",
            "|2020-03-10|         0| Não tem casos novos|\n",
            "|2020-03-11|         0| Não tem casos novos|\n",
            "|2020-03-12|         0| Não tem casos novos|\n",
            "|2020-03-13|         0| Não tem casos novos|\n",
            "|2020-03-14|         0| Não tem casos novos|\n",
            "|2020-03-15|         1| 1 - Tem casos novos|\n",
            "|2020-03-16|         0| Não tem casos novos|\n",
            "|2020-03-17|         0| Não tem casos novos|\n",
            "|2020-03-18|         0| Não tem casos novos|\n",
            "|2020-03-19|         2| 2 - Tem casos novos|\n",
            "|2020-03-20|         0| Não tem casos novos|\n",
            "|2020-03-21|         8| 8 - Tem casos novos|\n",
            "|2020-03-22|        15|15 - Tem casos novos|\n",
            "|2020-03-23|         6| 6 - Tem casos novos|\n",
            "|2020-03-24|        15|15 - Tem casos novos|\n",
            "|2020-03-25|         7| 7 - Tem casos novos|\n",
            "|2020-03-26|        13|13 - Tem casos novos|\n",
            "|2020-03-27|        14|14 - Tem casos novos|\n",
            "|2020-03-28|        30|30 - Tem casos novos|\n",
            "|2020-03-29|        29|29 - Tem casos novos|\n",
            "|2020-03-30|        11|11 - Tem casos novos|\n",
            "|2020-03-31|        24|24 - Tem casos novos|\n",
            "|2020-04-01|        25|25 - Tem casos novos|\n",
            "|2020-04-02|        29|29 - Tem casos novos|\n",
            "|2020-04-03|        31|31 - Tem casos novos|\n",
            "|2020-04-04|        51|51 - Tem casos novos|\n",
            "|2020-04-05|       106|106 - Tem casos n...|\n",
            "|2020-04-06|       115|115 - Tem casos n...|\n",
            "|2020-04-07|       104|104 - Tem casos n...|\n",
            "|2020-04-08|       168|168 - Tem casos n...|\n",
            "|2020-04-09|        95|95 - Tem casos novos|\n",
            "|2020-04-10|        82|82 - Tem casos novos|\n",
            "|2020-04-11|        69|69 - Tem casos novos|\n",
            "|2020-04-12|       156|156 - Tem casos n...|\n",
            "|2020-04-13|        69|69 - Tem casos novos|\n",
            "|2020-04-14|       209|209 - Tem casos n...|\n",
            "|2020-04-15|        70|70 - Tem casos novos|\n",
            "|2020-04-16|       165|165 - Tem casos n...|\n",
            "|2020-04-17|        90|90 - Tem casos novos|\n",
            "|2020-04-18|        88|88 - Tem casos novos|\n",
            "|2020-04-19|       147|147 - Tem casos n...|\n",
            "|2020-04-20|       116|116 - Tem casos n...|\n",
            "|2020-04-21|       110|110 - Tem casos n...|\n",
            "|2020-04-22|       209|209 - Tem casos n...|\n",
            "|2020-04-23|       409|409 - Tem casos n...|\n",
            "|2020-04-24|       306|306 - Tem casos n...|\n",
            "|2020-04-25|       441|441 - Tem casos n...|\n",
            "|2020-01-30|         0| Não tem casos novos|\n",
            "|2020-01-31|         0| Não tem casos novos|\n",
            "|2020-02-01|         0| Não tem casos novos|\n",
            "|2020-02-02|         0| Não tem casos novos|\n",
            "|2020-02-03|         0| Não tem casos novos|\n",
            "|2020-02-04|         0| Não tem casos novos|\n",
            "|2020-02-05|         0| Não tem casos novos|\n",
            "|2020-02-06|         0| Não tem casos novos|\n",
            "|2020-02-07|         0| Não tem casos novos|\n",
            "|2020-02-08|         0| Não tem casos novos|\n",
            "|2020-02-09|         0| Não tem casos novos|\n",
            "|2020-02-10|         0| Não tem casos novos|\n",
            "|2020-02-11|         0| Não tem casos novos|\n",
            "|2020-02-12|         0| Não tem casos novos|\n",
            "|2020-02-13|         0| Não tem casos novos|\n",
            "|2020-02-14|         0| Não tem casos novos|\n",
            "|2020-02-15|         0| Não tem casos novos|\n",
            "|2020-02-16|         0| Não tem casos novos|\n",
            "|2020-02-17|         0| Não tem casos novos|\n",
            "|2020-02-18|         0| Não tem casos novos|\n",
            "|2020-02-19|         0| Não tem casos novos|\n",
            "|2020-02-20|         0| Não tem casos novos|\n",
            "|2020-02-21|         0| Não tem casos novos|\n",
            "|2020-02-22|         0| Não tem casos novos|\n",
            "|2020-02-23|         0| Não tem casos novos|\n",
            "|2020-02-24|         0| Não tem casos novos|\n",
            "|2020-02-25|         0| Não tem casos novos|\n",
            "|2020-02-26|         0| Não tem casos novos|\n",
            "|2020-02-27|         0| Não tem casos novos|\n",
            "|2020-02-28|         0| Não tem casos novos|\n",
            "|2020-02-29|         0| Não tem casos novos|\n",
            "|2020-03-01|         0| Não tem casos novos|\n",
            "|2020-03-02|         0| Não tem casos novos|\n",
            "|2020-03-03|         0| Não tem casos novos|\n",
            "|2020-03-04|         0| Não tem casos novos|\n",
            "|2020-03-05|         0| Não tem casos novos|\n",
            "|2020-03-06|         0| Não tem casos novos|\n",
            "|2020-03-07|         0| Não tem casos novos|\n",
            "|2020-03-08|         0| Não tem casos novos|\n",
            "|2020-03-09|         0| Não tem casos novos|\n",
            "|2020-03-10|         0| Não tem casos novos|\n",
            "|2020-03-11|         0| Não tem casos novos|\n",
            "|2020-03-12|         0| Não tem casos novos|\n",
            "|2020-03-13|         0| Não tem casos novos|\n",
            "|2020-03-14|         0| Não tem casos novos|\n",
            "|2020-03-15|         0| Não tem casos novos|\n",
            "|2020-03-16|         0| Não tem casos novos|\n",
            "|2020-03-17|         0| Não tem casos novos|\n",
            "|2020-03-18|         0| Não tem casos novos|\n",
            "|2020-03-19|         0| Não tem casos novos|\n",
            "|2020-03-20|         0| Não tem casos novos|\n",
            "|2020-03-21|         0| Não tem casos novos|\n",
            "|2020-03-22|         2| 2 - Tem casos novos|\n",
            "|2020-03-23|         0| Não tem casos novos|\n",
            "|2020-03-24|         0| Não tem casos novos|\n",
            "|2020-03-25|         6| 6 - Tem casos novos|\n",
            "|2020-03-26|         0| Não tem casos novos|\n",
            "|2020-03-27|         2| 2 - Tem casos novos|\n",
            "|2020-03-28|         2| 2 - Tem casos novos|\n",
            "|2020-03-29|         4| 4 - Tem casos novos|\n",
            "|2020-03-30|         0| Não tem casos novos|\n",
            "|2020-03-31|         0| Não tem casos novos|\n",
            "|2020-04-01|         6| 6 - Tem casos novos|\n",
            "|2020-04-02|         4| 4 - Tem casos novos|\n",
            "|2020-04-03|         4| 4 - Tem casos novos|\n",
            "|2020-04-04|         7| 7 - Tem casos novos|\n",
            "|2020-04-05|         5| 5 - Tem casos novos|\n",
            "|2020-04-06|         0| Não tem casos novos|\n",
            "|2020-04-07|         0| Não tem casos novos|\n",
            "|2020-04-08|         7| 7 - Tem casos novos|\n",
            "|2020-04-09|         3| 3 - Tem casos novos|\n",
            "|2020-04-10|        11|11 - Tem casos novos|\n",
            "|2020-04-11|        12|12 - Tem casos novos|\n",
            "|2020-04-12|         4| 4 - Tem casos novos|\n",
            "|2020-04-13|         4| 4 - Tem casos novos|\n",
            "|2020-04-14|        30|30 - Tem casos novos|\n",
            "|2020-04-15|         1| 1 - Tem casos novos|\n",
            "|2020-04-16|        28|28 - Tem casos novos|\n",
            "|2020-04-17|        22|22 - Tem casos novos|\n",
            "|2020-04-18|        37|37 - Tem casos novos|\n",
            "|2020-04-19|        21|21 - Tem casos novos|\n",
            "|2020-04-20|        22|22 - Tem casos novos|\n",
            "|2020-04-21|         3| 3 - Tem casos novos|\n",
            "|2020-04-22|        33|33 - Tem casos novos|\n",
            "|2020-04-23|        17|17 - Tem casos novos|\n",
            "|2020-04-24|         7| 7 - Tem casos novos|\n",
            "|2020-04-25|        41|41 - Tem casos novos|\n",
            "|2020-01-30|         0| Não tem casos novos|\n",
            "|2020-01-31|         0| Não tem casos novos|\n",
            "|2020-02-01|         0| Não tem casos novos|\n",
            "|2020-02-02|         0| Não tem casos novos|\n",
            "|2020-02-03|         0| Não tem casos novos|\n",
            "|2020-02-04|         0| Não tem casos novos|\n",
            "|2020-02-05|         0| Não tem casos novos|\n",
            "|2020-02-06|         0| Não tem casos novos|\n",
            "|2020-02-07|         0| Não tem casos novos|\n",
            "|2020-02-08|         0| Não tem casos novos|\n",
            "|2020-02-09|         0| Não tem casos novos|\n",
            "|2020-02-10|         0| Não tem casos novos|\n",
            "|2020-02-11|         0| Não tem casos novos|\n",
            "|2020-02-12|         0| Não tem casos novos|\n",
            "|2020-02-13|         0| Não tem casos novos|\n",
            "|2020-02-14|         0| Não tem casos novos|\n",
            "|2020-02-15|         0| Não tem casos novos|\n",
            "|2020-02-16|         0| Não tem casos novos|\n",
            "|2020-02-17|         0| Não tem casos novos|\n",
            "|2020-02-18|         0| Não tem casos novos|\n",
            "|2020-02-19|         0| Não tem casos novos|\n",
            "|2020-02-20|         0| Não tem casos novos|\n",
            "|2020-02-21|         0| Não tem casos novos|\n",
            "|2020-02-22|         0| Não tem casos novos|\n",
            "|2020-02-23|         0| Não tem casos novos|\n",
            "|2020-02-24|         0| Não tem casos novos|\n",
            "|2020-02-25|         0| Não tem casos novos|\n",
            "|2020-02-26|         0| Não tem casos novos|\n",
            "|2020-02-27|         0| Não tem casos novos|\n",
            "|2020-02-28|         0| Não tem casos novos|\n",
            "|2020-02-29|         0| Não tem casos novos|\n",
            "|2020-03-01|         0| Não tem casos novos|\n",
            "|2020-03-02|         0| Não tem casos novos|\n",
            "|2020-03-03|         0| Não tem casos novos|\n",
            "|2020-03-04|         0| Não tem casos novos|\n",
            "|2020-03-05|         0| Não tem casos novos|\n",
            "|2020-03-06|         0| Não tem casos novos|\n",
            "|2020-03-07|         0| Não tem casos novos|\n",
            "|2020-03-08|         0| Não tem casos novos|\n",
            "|2020-03-09|         0| Não tem casos novos|\n",
            "|2020-03-10|         0| Não tem casos novos|\n",
            "|2020-03-11|         0| Não tem casos novos|\n",
            "|2020-03-12|         0| Não tem casos novos|\n",
            "|2020-03-13|         0| Não tem casos novos|\n",
            "|2020-03-14|         0| Não tem casos novos|\n",
            "|2020-03-15|         0| Não tem casos novos|\n",
            "|2020-03-16|         0| Não tem casos novos|\n",
            "|2020-03-17|         0| Não tem casos novos|\n",
            "|2020-03-18|         0| Não tem casos novos|\n",
            "|2020-03-19|         1| 1 - Tem casos novos|\n",
            "|2020-03-20|         1| 1 - Tem casos novos|\n",
            "|2020-03-21|         0| Não tem casos novos|\n",
            "|2020-03-22|         2| 2 - Tem casos novos|\n",
            "|2020-03-23|         1| 1 - Tem casos novos|\n",
            "|2020-03-24|         0| Não tem casos novos|\n",
            "|2020-03-25|         2| 2 - Tem casos novos|\n",
            "|2020-03-26|         6| 6 - Tem casos novos|\n",
            "|2020-03-27|         0| Não tem casos novos|\n",
            "|2020-03-28|         4| 4 - Tem casos novos|\n",
            "|2020-03-29|         1| 1 - Tem casos novos|\n",
            "|2020-03-30|         3| 3 - Tem casos novos|\n",
            "|2020-03-31|        11|11 - Tem casos novos|\n",
            "|2020-04-01|         8| 8 - Tem casos novos|\n",
            "|2020-04-02|         6| 6 - Tem casos novos|\n",
            "|2020-04-03|         4| 4 - Tem casos novos|\n",
            "|2020-04-04|        30|30 - Tem casos novos|\n",
            "|2020-04-05|         6| 6 - Tem casos novos|\n",
            "|2020-04-06|        16|16 - Tem casos novos|\n",
            "|2020-04-07|        36|36 - Tem casos novos|\n",
            "|2020-04-08|        29|29 - Tem casos novos|\n",
            "|2020-04-09|         1| 1 - Tem casos novos|\n",
            "|2020-04-10|         2| 2 - Tem casos novos|\n",
            "|2020-04-11|        47|47 - Tem casos novos|\n",
            "|2020-04-12|        29|29 - Tem casos novos|\n",
            "|2020-04-13|        24|24 - Tem casos novos|\n",
            "|2020-04-14|        53|53 - Tem casos novos|\n",
            "|2020-04-15|        61|61 - Tem casos novos|\n",
            "|2020-04-16|        54|54 - Tem casos novos|\n",
            "|2020-04-17|       119|119 - Tem casos n...|\n",
            "|2020-04-18|        83|83 - Tem casos novos|\n",
            "|2020-04-19|        45|45 - Tem casos novos|\n",
            "|2020-04-20|       217|217 - Tem casos n...|\n",
            "|2020-04-21|       124|124 - Tem casos n...|\n",
            "|2020-04-22|       169|169 - Tem casos n...|\n",
            "|2020-04-23|        72|72 - Tem casos novos|\n",
            "|2020-04-24|       179|179 - Tem casos n...|\n",
            "|2020-04-25|       133|133 - Tem casos n...|\n",
            "|2020-01-30|         0| Não tem casos novos|\n",
            "|2020-01-31|         0| Não tem casos novos|\n",
            "|2020-02-01|         0| Não tem casos novos|\n",
            "|2020-02-02|         0| Não tem casos novos|\n",
            "|2020-02-03|         0| Não tem casos novos|\n",
            "|2020-02-04|         0| Não tem casos novos|\n",
            "|2020-02-05|         0| Não tem casos novos|\n",
            "|2020-02-06|         0| Não tem casos novos|\n",
            "|2020-02-07|         0| Não tem casos novos|\n",
            "|2020-02-08|         0| Não tem casos novos|\n",
            "|2020-02-09|         0| Não tem casos novos|\n",
            "|2020-02-10|         0| Não tem casos novos|\n",
            "|2020-02-11|         0| Não tem casos novos|\n",
            "|2020-02-12|         0| Não tem casos novos|\n",
            "|2020-02-13|         0| Não tem casos novos|\n",
            "|2020-02-14|         0| Não tem casos novos|\n",
            "|2020-02-15|         0| Não tem casos novos|\n",
            "|2020-02-16|         0| Não tem casos novos|\n",
            "|2020-02-17|         0| Não tem casos novos|\n",
            "|2020-02-18|         0| Não tem casos novos|\n",
            "|2020-02-19|         0| Não tem casos novos|\n",
            "|2020-02-20|         0| Não tem casos novos|\n",
            "|2020-02-21|         0| Não tem casos novos|\n",
            "|2020-02-22|         0| Não tem casos novos|\n",
            "|2020-02-23|         0| Não tem casos novos|\n",
            "|2020-02-24|         0| Não tem casos novos|\n",
            "|2020-02-25|         0| Não tem casos novos|\n",
            "|2020-02-26|         0| Não tem casos novos|\n",
            "|2020-02-27|         0| Não tem casos novos|\n",
            "|2020-02-28|         0| Não tem casos novos|\n",
            "|2020-02-29|         0| Não tem casos novos|\n",
            "|2020-03-01|         0| Não tem casos novos|\n",
            "|2020-03-02|         0| Não tem casos novos|\n",
            "|2020-03-03|         0| Não tem casos novos|\n",
            "|2020-03-04|         0| Não tem casos novos|\n",
            "|2020-03-05|         0| Não tem casos novos|\n",
            "|2020-03-06|         0| Não tem casos novos|\n",
            "|2020-03-07|         0| Não tem casos novos|\n",
            "|2020-03-08|         0| Não tem casos novos|\n",
            "|2020-03-09|         0| Não tem casos novos|\n",
            "|2020-03-10|         0| Não tem casos novos|\n",
            "|2020-03-11|         0| Não tem casos novos|\n",
            "|2020-03-12|         0| Não tem casos novos|\n",
            "|2020-03-13|         0| Não tem casos novos|\n",
            "|2020-03-14|         0| Não tem casos novos|\n",
            "|2020-03-15|         0| Não tem casos novos|\n",
            "|2020-03-16|         0| Não tem casos novos|\n",
            "|2020-03-17|         0| Não tem casos novos|\n",
            "|2020-03-18|         0| Não tem casos novos|\n",
            "|2020-03-19|         0| Não tem casos novos|\n",
            "|2020-03-20|         1| 1 - Tem casos novos|\n",
            "|2020-03-21|         0| Não tem casos novos|\n",
            "|2020-03-22|         0| Não tem casos novos|\n",
            "|2020-03-23|         0| Não tem casos novos|\n",
            "|2020-03-24|         0| Não tem casos novos|\n",
            "|2020-03-25|         0| Não tem casos novos|\n",
            "|2020-03-26|         1| 1 - Tem casos novos|\n",
            "|2020-03-27|         0| Não tem casos novos|\n",
            "|2020-03-28|         2| 2 - Tem casos novos|\n",
            "|2020-03-29|         0| Não tem casos novos|\n",
            "|2020-03-30|         4| 4 - Tem casos novos|\n",
            "|2020-03-31|         2| 2 - Tem casos novos|\n",
            "|2020-04-01|         1| 1 - Tem casos novos|\n",
            "|2020-04-02|         0| Não tem casos novos|\n",
            "|2020-04-03|         8| 8 - Tem casos novos|\n",
            "+----------+----------+--------------------+\n",
            "only showing top 500 rows\n",
            "\n"
          ]
        }
      ]
    },
    {
      "cell_type": "markdown",
      "metadata": {
        "id": "a8mqdvu85Uk2"
      },
      "source": [
        "Criando colunas com Dia/Mês/ANO para ficar mais organizado no DataFrame\n",
        "\n",
        "Isso é feito com a utilização da withColumn que cria uma nova coluna junto com a substring que mostra uma parte da string de acordo com os parâmetros escolhidos"
      ]
    },
    {
      "cell_type": "code",
      "metadata": {
        "colab": {
          "base_uri": "https://localhost:8080/"
        },
        "id": "DHx-5tVu3eNt",
        "outputId": "699b8588-7b3a-4553-90f6-b6ad3f5fab94"
      },
      "source": [
        "texto = \"Soulcode\"\n",
        "dia = F.substring(texto, 5, 4)\n",
        "\n",
        "df1.select(\"data\").show(5)"
      ],
      "execution_count": 24,
      "outputs": [
        {
          "output_type": "stream",
          "name": "stdout",
          "text": [
            "+----------+\n",
            "|      data|\n",
            "+----------+\n",
            "|2020-01-30|\n",
            "|2020-01-31|\n",
            "|2020-02-01|\n",
            "|2020-02-02|\n",
            "|2020-02-03|\n",
            "+----------+\n",
            "only showing top 5 rows\n",
            "\n"
          ]
        }
      ]
    },
    {
      "cell_type": "code",
      "metadata": {
        "id": "T4D7ZboZ5gjB"
      },
      "source": [
        "df4 = (\n",
        "    df1.withColumn(\"Status\",\n",
        "                   F.when(F.col(\"casosNovos\") > 0, F.concat(df1.casosNovos, F.lit(\" Caso(s) Novo(s)\")))\n",
        "                   .otherwise(\"Sem Casos Novos\")\n",
        "                  )\n",
        "    .withColumn(\"Dia\", F.substring(F.col(\"data\"), 9, 2))\n",
        "    .withColumn(\"Mes\", F.substring(F.col(\"data\"), 6, 2))\n",
        "    .withColumn(\"Ano\", F.substring(F.col(\"data\"), 1, 4))\n",
        ")"
      ],
      "execution_count": 31,
      "outputs": []
    },
    {
      "cell_type": "code",
      "metadata": {
        "colab": {
          "base_uri": "https://localhost:8080/"
        },
        "id": "UvUlV5yh7who",
        "outputId": "cd4de8f6-821c-478f-d2d0-7ce2fbf67bb2"
      },
      "source": [
        "lista_esquema = ['regiao', 'data', 'dia', 'mes', 'ano', 'status']\n",
        "df4.select(lista_esquema).show(5)"
      ],
      "execution_count": 32,
      "outputs": [
        {
          "output_type": "stream",
          "name": "stdout",
          "text": [
            "+------+----------+---+---+----+---------------+\n",
            "|regiao|      data|dia|mes| ano|         status|\n",
            "+------+----------+---+---+----+---------------+\n",
            "| Norte|2020-01-30| 30| 01|2020|Sem Casos Novos|\n",
            "| Norte|2020-01-31| 31| 01|2020|Sem Casos Novos|\n",
            "| Norte|2020-02-01| 01| 02|2020|Sem Casos Novos|\n",
            "| Norte|2020-02-02| 02| 02|2020|Sem Casos Novos|\n",
            "| Norte|2020-02-03| 03| 02|2020|Sem Casos Novos|\n",
            "+------+----------+---+---+----+---------------+\n",
            "only showing top 5 rows\n",
            "\n"
          ]
        }
      ]
    },
    {
      "cell_type": "code",
      "metadata": {
        "colab": {
          "base_uri": "https://localhost:8080/"
        },
        "id": "vcXEvjgDA4yc",
        "outputId": "2e522581-379e-4308-d3b8-79b2b686f5c1"
      },
      "source": [
        "df5 = (\n",
        "    df1.withColumn(\"Dia\", F.substring(F.col(\"data\"), 9, 2).cast(\"integer\"))\n",
        "        .withColumn(\"MES\", F.substring(F.col(\"data\"), 6, 2).cast(\"integer\"))\n",
        "        .withColumn(\"ANO\", F.substring(F.col(\"data\"), 1, 4).cast(\"integer\"))\n",
        ")\n",
        "lista_esquema = [\"regiao\", \"data\", \"dia\", \"mes\", \"ano\"]\n",
        "df5.select(lista_esquema).show(10)"
      ],
      "execution_count": 33,
      "outputs": [
        {
          "output_type": "stream",
          "name": "stdout",
          "text": [
            "+------+----------+---+---+----+\n",
            "|regiao|      data|dia|mes| ano|\n",
            "+------+----------+---+---+----+\n",
            "| Norte|2020-01-30| 30|  1|2020|\n",
            "| Norte|2020-01-31| 31|  1|2020|\n",
            "| Norte|2020-02-01|  1|  2|2020|\n",
            "| Norte|2020-02-02|  2|  2|2020|\n",
            "| Norte|2020-02-03|  3|  2|2020|\n",
            "| Norte|2020-02-04|  4|  2|2020|\n",
            "| Norte|2020-02-05|  5|  2|2020|\n",
            "| Norte|2020-02-06|  6|  2|2020|\n",
            "| Norte|2020-02-07|  7|  2|2020|\n",
            "| Norte|2020-02-08|  8|  2|2020|\n",
            "+------+----------+---+---+----+\n",
            "only showing top 10 rows\n",
            "\n"
          ]
        }
      ]
    },
    {
      "cell_type": "code",
      "metadata": {
        "id": "zxPsUVBTNmSq"
      },
      "source": [
        ""
      ],
      "execution_count": null,
      "outputs": []
    }
  ]
}