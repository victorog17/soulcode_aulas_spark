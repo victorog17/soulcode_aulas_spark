{
  "nbformat": 4,
  "nbformat_minor": 0,
  "metadata": {
    "colab": {
      "name": "Soulcode_PySpark_006_Header.ipynb",
      "provenance": [],
      "collapsed_sections": [],
      "include_colab_link": true
    },
    "kernelspec": {
      "name": "python3",
      "display_name": "Python 3"
    },
    "language_info": {
      "name": "python"
    }
  },
  "cells": [
    {
      "cell_type": "markdown",
      "metadata": {
        "id": "view-in-github",
        "colab_type": "text"
      },
      "source": [
        "<a href=\"https://colab.research.google.com/github/victorog17/soulcode_aulas_spark/blob/main/Soulcode_PySpark_006_Header.ipynb\" target=\"_parent\"><img src=\"https://colab.research.google.com/assets/colab-badge.svg\" alt=\"Open In Colab\"/></a>"
      ]
    },
    {
      "cell_type": "code",
      "metadata": {
        "colab": {
          "base_uri": "https://localhost:8080/"
        },
        "id": "NUtyiEMxX5_y",
        "outputId": "8965d7ef-dbf8-40e7-eda5-d5c92a6d88fa"
      },
      "source": [
        "!pip install pyspark"
      ],
      "execution_count": null,
      "outputs": [
        {
          "output_type": "stream",
          "name": "stdout",
          "text": [
            "Collecting pyspark\n",
            "  Downloading pyspark-3.2.0.tar.gz (281.3 MB)\n",
            "\u001b[K     |████████████████████████████████| 281.3 MB 36 kB/s \n",
            "\u001b[?25hCollecting py4j==0.10.9.2\n",
            "  Downloading py4j-0.10.9.2-py2.py3-none-any.whl (198 kB)\n",
            "\u001b[K     |████████████████████████████████| 198 kB 58.8 MB/s \n",
            "\u001b[?25hBuilding wheels for collected packages: pyspark\n",
            "  Building wheel for pyspark (setup.py) ... \u001b[?25l\u001b[?25hdone\n",
            "  Created wheel for pyspark: filename=pyspark-3.2.0-py2.py3-none-any.whl size=281805912 sha256=2d2190222be752bccf372155159d3ab835474e7aa9fac9ab248c63ccc2c0e63f\n",
            "  Stored in directory: /root/.cache/pip/wheels/0b/de/d2/9be5d59d7331c6c2a7c1b6d1a4f463ce107332b1ecd4e80718\n",
            "Successfully built pyspark\n",
            "Installing collected packages: py4j, pyspark\n",
            "Successfully installed py4j-0.10.9.2 pyspark-3.2.0\n"
          ]
        }
      ]
    },
    {
      "cell_type": "code",
      "metadata": {
        "id": "j8F_U5CHX_MU"
      },
      "source": [
        "from pyspark.sql import SparkSession\n",
        "import pyspark.sql.functions as F\n",
        "from pyspark.sql.types import StructType, StructField, StringType, IntegerType"
      ],
      "execution_count": null,
      "outputs": []
    },
    {
      "cell_type": "code",
      "metadata": {
        "id": "EfLhjj0VYP8r"
      },
      "source": [
        "spark = (\n",
        "    SparkSession.builder\n",
        "      .master('local')\n",
        "      .appName('dataframe_withcolumn')\n",
        "      .config('spark.ui.port', '4050')\n",
        "      .getOrCreate()\n",
        ")"
      ],
      "execution_count": null,
      "outputs": []
    },
    {
      "cell_type": "code",
      "metadata": {
        "id": "EUIVdFkQYSML"
      },
      "source": [
        "df1 = (spark\n",
        "       .read\n",
        "       .format(\"csv\")\n",
        "       .option(\"header\", \"false\")\n",
        "       .option(\"inferschema\", \"false\")\n",
        "       .option(\"delimiter\", \";\")\n",
        "       .load('/content/drive/MyDrive/Datasets/arquivo_geral.csv').toDF(\"UM\", \"DOIS\", \"TRES\", \"QUATRO\", \"CINCO\", \"SEIS\", \"SETE\")\n",
        ")"
      ],
      "execution_count": null,
      "outputs": []
    },
    {
      "cell_type": "code",
      "metadata": {
        "colab": {
          "base_uri": "https://localhost:8080/"
        },
        "id": "lz_WpBiDYY5z",
        "outputId": "80a173a9-b7f1-42ab-f762-f2f1fb0ba856"
      },
      "source": [
        "df1.printSchema()"
      ],
      "execution_count": null,
      "outputs": [
        {
          "output_type": "stream",
          "name": "stdout",
          "text": [
            "root\n",
            " |-- UM: string (nullable = true)\n",
            " |-- DOIS: string (nullable = true)\n",
            " |-- TRES: string (nullable = true)\n",
            " |-- QUATRO: string (nullable = true)\n",
            " |-- CINCO: string (nullable = true)\n",
            " |-- SEIS: string (nullable = true)\n",
            " |-- SETE: string (nullable = true)\n",
            "\n"
          ]
        }
      ]
    },
    {
      "cell_type": "code",
      "metadata": {
        "id": "qAYCko_ZYh6e"
      },
      "source": [
        "#SEGUNDA MANEIRA\n",
        "lista_esquema = ['UM', 'DOIS', 'TRES', 'QUATRO', 'CINCO', 'SEIS', 'SETE']\n",
        "df1 = (spark\n",
        "       .read\n",
        "       .format(\"csv\")\n",
        "       .option(\"header\", \"false\")\n",
        "       .option(\"inferschema\", \"false\")\n",
        "       .option(\"delimiter\", \";\")\n",
        "       .load('/content/drive/MyDrive/Datasets/arquivo_geral.csv').toDF(*lista_esquema)\n",
        ")"
      ],
      "execution_count": null,
      "outputs": []
    },
    {
      "cell_type": "code",
      "metadata": {
        "colab": {
          "base_uri": "https://localhost:8080/"
        },
        "id": "CoKh5AsHZaT3",
        "outputId": "9d341952-98ae-42fe-d0e1-d238a36e31e2"
      },
      "source": [
        "df1.printSchema()"
      ],
      "execution_count": null,
      "outputs": [
        {
          "output_type": "stream",
          "name": "stdout",
          "text": [
            "root\n",
            " |-- UM: string (nullable = true)\n",
            " |-- DOIS: string (nullable = true)\n",
            " |-- TRES: string (nullable = true)\n",
            " |-- QUATRO: string (nullable = true)\n",
            " |-- CINCO: string (nullable = true)\n",
            " |-- SEIS: string (nullable = true)\n",
            " |-- SETE: string (nullable = true)\n",
            "\n"
          ]
        }
      ]
    },
    {
      "cell_type": "code",
      "metadata": {
        "id": "wYT4dJJWZseO"
      },
      "source": [
        "#TERCEIRA MANEIRA - UTILIZANDO O SELECT COM F.COL E ALIAS\n",
        "df2 = (spark\n",
        "       .read\n",
        "       .format(\"csv\")\n",
        "       .option(\"header\", \"false\")\n",
        "       .option(\"inferschema\", \"false\")\n",
        "       .option(\"delimiter\", \";\")\n",
        "       .load('/content/drive/MyDrive/Datasets/arquivo_geral.csv')\n",
        ")\n"
      ],
      "execution_count": null,
      "outputs": []
    },
    {
      "cell_type": "code",
      "metadata": {
        "colab": {
          "base_uri": "https://localhost:8080/"
        },
        "id": "ZvNNAUt_avVU",
        "outputId": "288e247c-79ff-431a-8cb3-badceaea9566"
      },
      "source": [
        "df2 = df2.select(F.col(\"_c0\").alias(\"um\"),\n",
        "                 F.col(\"_c1\").alias(\"dois\"),\n",
        "                 F.col(\"_c2\").alias(\"tres\"),\n",
        "                 F.col(\"_c3\").alias(\"quatro\"),\n",
        "                 F.col(\"_c4\").alias(\"cinco\"),\n",
        "                 F.col(\"_c5\").alias(\"seis\"),\n",
        "                 F.col(\"_c6\").alias(\"sete\"),\n",
        ")\n",
        "\n",
        "df2.printSchema()"
      ],
      "execution_count": null,
      "outputs": [
        {
          "output_type": "stream",
          "name": "stdout",
          "text": [
            "root\n",
            " |-- um: string (nullable = true)\n",
            " |-- dois: string (nullable = true)\n",
            " |-- tres: string (nullable = true)\n",
            " |-- quatro: string (nullable = true)\n",
            " |-- cinco: string (nullable = true)\n",
            " |-- seis: string (nullable = true)\n",
            " |-- sete: string (nullable = true)\n",
            "\n"
          ]
        }
      ]
    },
    {
      "cell_type": "code",
      "metadata": {
        "id": "VssVX3qkaxNi"
      },
      "source": [
        "df3 = (spark\n",
        "       .read\n",
        "       .format(\"csv\")\n",
        "       .option(\"header\", \"true\")\n",
        "       .option(\"inferschema\", \"false\")\n",
        "       .option(\"delimiter\", \";\")\n",
        "       .load('/content/drive/MyDrive/Datasets/arquivo_geral.csv')\n",
        ")"
      ],
      "execution_count": null,
      "outputs": []
    },
    {
      "cell_type": "code",
      "metadata": {
        "colab": {
          "base_uri": "https://localhost:8080/"
        },
        "id": "juDGVaPwcOnp",
        "outputId": "89ad5a67-ecc9-4cc3-ae28-bedd35a8789f"
      },
      "source": [
        "df3.printSchema()"
      ],
      "execution_count": null,
      "outputs": [
        {
          "output_type": "stream",
          "name": "stdout",
          "text": [
            "root\n",
            " |-- regiao: string (nullable = true)\n",
            " |-- estado: string (nullable = true)\n",
            " |-- data: string (nullable = true)\n",
            " |-- casosNovos: string (nullable = true)\n",
            " |-- casosAcumulados: string (nullable = true)\n",
            " |-- obitosNovos: string (nullable = true)\n",
            " |-- obitosAcumulados: string (nullable = true)\n",
            "\n"
          ]
        }
      ]
    },
    {
      "cell_type": "code",
      "metadata": {
        "colab": {
          "base_uri": "https://localhost:8080/"
        },
        "id": "GvrZ8tfUcQ3f",
        "outputId": "76737bbb-8f66-4b96-a205-98e7f97a5e08"
      },
      "source": [
        "df4 = df3.select(F.col(\"regiao\").alias(\"nova_regiao\"),\n",
        "                 F.col(\"estado\").alias(\"novo_estado\")\n",
        ")\n",
        "\n",
        "df4.printSchema()\n",
        "withColumnRenamed(\"nome_coluna\", \"novo_nome\")"
      ],
      "execution_count": null,
      "outputs": [
        {
          "output_type": "stream",
          "name": "stdout",
          "text": [
            "root\n",
            " |-- nova_regiao: string (nullable = true)\n",
            " |-- novo_estado: string (nullable = true)\n",
            "\n"
          ]
        }
      ]
    },
    {
      "cell_type": "code",
      "metadata": {
        "id": "CjxBEFU1chu8"
      },
      "source": [
        ""
      ],
      "execution_count": null,
      "outputs": []
    }
  ]
}