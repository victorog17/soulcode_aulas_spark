{
  "nbformat": 4,
  "nbformat_minor": 0,
  "metadata": {
    "colab": {
      "name": "Soulcode_PySpark_005_StructType.ipynb",
      "provenance": [],
      "collapsed_sections": [],
      "mount_file_id": "1x2Nx4OA-x6hKzz0yzuYNirwpbTNGhhZN",
      "authorship_tag": "ABX9TyO3gIAsCtzDdycB0RFAbObT",
      "include_colab_link": true
    },
    "kernelspec": {
      "name": "python3",
      "display_name": "Python 3"
    },
    "language_info": {
      "name": "python"
    }
  },
  "cells": [
    {
      "cell_type": "markdown",
      "metadata": {
        "id": "view-in-github",
        "colab_type": "text"
      },
      "source": [
        "<a href=\"https://colab.research.google.com/github/victorog17/soulcode_aulas_spark/blob/main/Soulcode_PySpark_005_StructType.ipynb\" target=\"_parent\"><img src=\"https://colab.research.google.com/assets/colab-badge.svg\" alt=\"Open In Colab\"/></a>"
      ]
    },
    {
      "cell_type": "markdown",
      "metadata": {
        "id": "F_LveQ1pPJ4z"
      },
      "source": [
        "**BIBLIOTECAS**"
      ]
    },
    {
      "cell_type": "code",
      "metadata": {
        "colab": {
          "base_uri": "https://localhost:8080/"
        },
        "id": "H7VLKWswPAEe",
        "outputId": "3435278f-0763-4786-f719-a181d460b458"
      },
      "source": [
        "pip install pyspark"
      ],
      "execution_count": null,
      "outputs": [
        {
          "output_type": "stream",
          "name": "stdout",
          "text": [
            "Collecting pyspark\n",
            "  Downloading pyspark-3.2.0.tar.gz (281.3 MB)\n",
            "\u001b[K     |████████████████████████████████| 281.3 MB 35 kB/s \n",
            "\u001b[?25hCollecting py4j==0.10.9.2\n",
            "  Downloading py4j-0.10.9.2-py2.py3-none-any.whl (198 kB)\n",
            "\u001b[K     |████████████████████████████████| 198 kB 57.1 MB/s \n",
            "\u001b[?25hBuilding wheels for collected packages: pyspark\n",
            "  Building wheel for pyspark (setup.py) ... \u001b[?25l\u001b[?25hdone\n",
            "  Created wheel for pyspark: filename=pyspark-3.2.0-py2.py3-none-any.whl size=281805912 sha256=93ea1964029c1e36d38b879b632e6b6e042a8d7ad52540c3900fe7d1b627fd34\n",
            "  Stored in directory: /root/.cache/pip/wheels/0b/de/d2/9be5d59d7331c6c2a7c1b6d1a4f463ce107332b1ecd4e80718\n",
            "Successfully built pyspark\n",
            "Installing collected packages: py4j, pyspark\n",
            "Successfully installed py4j-0.10.9.2 pyspark-3.2.0\n"
          ]
        }
      ]
    },
    {
      "cell_type": "code",
      "metadata": {
        "id": "Imqv52DPPML7"
      },
      "source": [
        "from pyspark.sql import SparkSession\n",
        "import pyspark.sql.functions as F\n",
        "from pyspark.sql.types import StructType, StructField, StringType, IntegerType"
      ],
      "execution_count": null,
      "outputs": []
    },
    {
      "cell_type": "markdown",
      "metadata": {
        "id": "4mkt-wrCPhZo"
      },
      "source": [
        "**CONFIGURAR A NOSSA SPARKSESSION**"
      ]
    },
    {
      "cell_type": "code",
      "metadata": {
        "colab": {
          "base_uri": "https://localhost:8080/",
          "height": 221
        },
        "id": "njyd7Q9NPeI7",
        "outputId": "eeae58be-3e9c-46a7-cdd7-51d1f586bbaa"
      },
      "source": [
        "spark = (SparkSession.builder\\\n",
        "        .master(\"local\")\\\n",
        "        .appName(\"dataframe_withcolumn\")\\\n",
        "        .config(\"spark.ui.port\", \"4050\")\\\n",
        "        .getOrCreate())\n",
        "spark"
      ],
      "execution_count": null,
      "outputs": [
        {
          "output_type": "execute_result",
          "data": {
            "text/html": [
              "\n",
              "            <div>\n",
              "                <p><b>SparkSession - in-memory</b></p>\n",
              "                \n",
              "        <div>\n",
              "            <p><b>SparkContext</b></p>\n",
              "\n",
              "            <p><a href=\"http://f7541838bb2e:4050\">Spark UI</a></p>\n",
              "\n",
              "            <dl>\n",
              "              <dt>Version</dt>\n",
              "                <dd><code>v3.2.0</code></dd>\n",
              "              <dt>Master</dt>\n",
              "                <dd><code>local</code></dd>\n",
              "              <dt>AppName</dt>\n",
              "                <dd><code>dataframe_withcolumn</code></dd>\n",
              "            </dl>\n",
              "        </div>\n",
              "        \n",
              "            </div>\n",
              "        "
            ],
            "text/plain": [
              "<pyspark.sql.session.SparkSession at 0x7fc89901d450>"
            ]
          },
          "metadata": {},
          "execution_count": 3
        }
      ]
    },
    {
      "cell_type": "markdown",
      "metadata": {
        "id": "YuLd5BFcPt5D"
      },
      "source": [
        "**IMPORTANDO CSV NO PYSPARK**"
      ]
    },
    {
      "cell_type": "code",
      "metadata": {
        "id": "VwlkvU1TPqSM"
      },
      "source": [
        "df1 = (spark\n",
        "      .read\n",
        "      .format(\"csv\")\n",
        "      .option(\"header\", \"true\")\n",
        "      .option(\"inferschema\", \"true\")\n",
        "      .option(\"delimiter\", \";\")\n",
        "      .load(\"/content/drive/MyDrive/Soul_Code_Academy/repositorio_pandas/arquivo_geral.csv\")\n",
        ")"
      ],
      "execution_count": null,
      "outputs": []
    },
    {
      "cell_type": "code",
      "metadata": {
        "colab": {
          "base_uri": "https://localhost:8080/"
        },
        "id": "OMA3tpgKPx8d",
        "outputId": "c4483da3-63f4-4b57-e42f-0e6e9083351b"
      },
      "source": [
        "df1.printSchema()"
      ],
      "execution_count": null,
      "outputs": [
        {
          "output_type": "stream",
          "name": "stdout",
          "text": [
            "root\n",
            " |-- regiao: string (nullable = true)\n",
            " |-- estado: string (nullable = true)\n",
            " |-- data: string (nullable = true)\n",
            " |-- casosNovos: integer (nullable = true)\n",
            " |-- casosAcumulados: integer (nullable = true)\n",
            " |-- obitosNovos: integer (nullable = true)\n",
            " |-- obitosAcumulados: integer (nullable = true)\n",
            "\n"
          ]
        }
      ]
    },
    {
      "cell_type": "code",
      "metadata": {
        "colab": {
          "base_uri": "https://localhost:8080/"
        },
        "id": "GH6JIYJrP2de",
        "outputId": "89839755-1105-49b7-a83f-c28770619769"
      },
      "source": [
        "dados = [\n",
        "         (\"João\", \"da\", \"Silva\", \"12345\", \"M\", 1000),\n",
        "         (\"Priscila\", \"dos\", \"Santos\", \"87663\", \"F\", 2200),\n",
        "         (\"Carla\", \"Pereira\", \"Costa\", \"12697\", \"F\", 3800),\n",
        "         (\"Edson\", \"Paixão\", \"dos Anjos\", \"44023\", \"M\", 1500),\n",
        "         (\"Stella\", \"de\", \"Almeida\", \"110001\", \"F\", 1560)\n",
        "]\n",
        "\n",
        "schema = (\n",
        "    StructType([\n",
        "        StructField(\"primeiro_nome\",StringType(), True),\n",
        "        StructField(\"nome_do_meio\", StringType(), True),\n",
        "        StructField(\"ultimo_nome\", StringType(), True),\n",
        "        StructField(\"codigo\", StringType(), True),\n",
        "        StructField(\"genero\", StringType(), True),\n",
        "        StructField(\"salario\", IntegerType(), True)\n",
        "    ])\n",
        ")\n",
        "\n",
        "df = spark.createDataFrame(data=dados, schema=schema)\n",
        "df.printSchema()"
      ],
      "execution_count": null,
      "outputs": [
        {
          "output_type": "stream",
          "name": "stdout",
          "text": [
            "root\n",
            " |-- primeiro_nome: string (nullable = true)\n",
            " |-- nome_do_meio: string (nullable = true)\n",
            " |-- ultimo_nome: string (nullable = true)\n",
            " |-- codigo: string (nullable = true)\n",
            " |-- genero: string (nullable = true)\n",
            " |-- salario: integer (nullable = true)\n",
            "\n"
          ]
        }
      ]
    },
    {
      "cell_type": "code",
      "metadata": {
        "colab": {
          "base_uri": "https://localhost:8080/"
        },
        "id": "rvJgE2TEVymQ",
        "outputId": "eb9b0e4b-baa5-4159-888b-ec1503330655"
      },
      "source": [
        "dados = [\n",
        "         ((\"João\", \"da\", \"Silva\"), \"12345\", \"M\", 1000),\n",
        "         ((\"Priscila\", \"dos\", \"Santos\"), \"87663\", \"F\", 2200),\n",
        "         ((\"Carla\", \"Pereira\", \"Costa\"), \"12697\", \"F\", 3800),\n",
        "         ((\"Edson\", \"Paixão\", \"dos Anjos\"), \"44023\", \"M\", 1500),\n",
        "         ((\"Stella\", \"de\", \"Almeida\"), \"110001\", \"F\", 1560)\n",
        "]\n",
        "\n",
        "schema = StructType([\n",
        "        StructField(\"nome\", StructType([\n",
        "             StructField(\"primeiro_nome\", StringType(), True),\n",
        "             StructField(\"nome_do_meio\", StringType(), True),\n",
        "             StructField(\"ultimo_nome\", StringType(), True) \n",
        "        ])),\n",
        "        StructField(\"codigo\", StringType(), True),\n",
        "        StructField(\"genero\", StringType(), True),\n",
        "        StructField(\"salario\", IntegerType(), True)\n",
        "])\n",
        "\n",
        "df2 = spark.createDataFrame(data=dados, schema=schema)\n",
        "df2.printSchema()"
      ],
      "execution_count": null,
      "outputs": [
        {
          "output_type": "stream",
          "name": "stdout",
          "text": [
            "root\n",
            " |-- nome: struct (nullable = true)\n",
            " |    |-- primeiro_nome: string (nullable = true)\n",
            " |    |-- nome_do_meio: string (nullable = true)\n",
            " |    |-- ultimo_nome: string (nullable = true)\n",
            " |-- codigo: string (nullable = true)\n",
            " |-- genero: string (nullable = true)\n",
            " |-- salario: integer (nullable = true)\n",
            "\n"
          ]
        }
      ]
    },
    {
      "cell_type": "code",
      "metadata": {
        "id": "gK5oxGunV1Hu",
        "colab": {
          "base_uri": "https://localhost:8080/"
        },
        "outputId": "832fc368-9aa8-4c34-8e97-cef14c0788ee"
      },
      "source": [
        "df2.show(5)"
      ],
      "execution_count": null,
      "outputs": [
        {
          "output_type": "stream",
          "name": "stdout",
          "text": [
            "+--------------------+------+------+-------+\n",
            "|                nome|codigo|genero|salario|\n",
            "+--------------------+------+------+-------+\n",
            "|   {João, da, Silva}| 12345|     M|   1000|\n",
            "|{Priscila, dos, S...| 87663|     F|   2200|\n",
            "|{Carla, Pereira, ...| 12697|     F|   3800|\n",
            "|{Edson, Paixão, d...| 44023|     M|   1500|\n",
            "|{Stella, de, Alme...|110001|     F|   1560|\n",
            "+--------------------+------+------+-------+\n",
            "\n"
          ]
        }
      ]
    },
    {
      "cell_type": "code",
      "metadata": {
        "id": "A33owGbdV4Mo"
      },
      "source": [
        ""
      ],
      "execution_count": null,
      "outputs": []
    }
  ]
}