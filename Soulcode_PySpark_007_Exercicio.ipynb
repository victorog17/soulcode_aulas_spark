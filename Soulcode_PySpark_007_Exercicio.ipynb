{
  "nbformat": 4,
  "nbformat_minor": 0,
  "metadata": {
    "colab": {
      "name": "Soulcode_PySpark_007_Exercicio.ipynb",
      "provenance": [],
      "collapsed_sections": [],
      "authorship_tag": "ABX9TyOe9Mj6AVtWuMSyFlniqCkq",
      "include_colab_link": true
    },
    "kernelspec": {
      "name": "python3",
      "display_name": "Python 3"
    },
    "language_info": {
      "name": "python"
    }
  },
  "cells": [
    {
      "cell_type": "markdown",
      "metadata": {
        "id": "view-in-github",
        "colab_type": "text"
      },
      "source": [
        "<a href=\"https://colab.research.google.com/github/victorog17/soulcode_aulas_spark/blob/main/Soulcode_PySpark_007_Exercicio.ipynb\" target=\"_parent\"><img src=\"https://colab.research.google.com/assets/colab-badge.svg\" alt=\"Open In Colab\"/></a>"
      ]
    },
    {
      "cell_type": "markdown",
      "metadata": {
        "id": "WXMD8LBL0_Sm"
      },
      "source": [
        "**BIBLIOTECAS**"
      ]
    },
    {
      "cell_type": "code",
      "metadata": {
        "id": "JXwxacf-0ufj"
      },
      "source": [
        "pip install pyspark"
      ],
      "execution_count": null,
      "outputs": []
    },
    {
      "cell_type": "code",
      "metadata": {
        "id": "DUcjA-Vf1Ekj"
      },
      "source": [
        "from pyspark.sql import SparkSession\n",
        "import pyspark.sql.functions as F\n",
        "from pyspark.sql.types import StructType, StructField, StringType, IntegerType, DoubleType"
      ],
      "execution_count": 5,
      "outputs": []
    },
    {
      "cell_type": "markdown",
      "metadata": {
        "id": "sK3HwR-D1y6K"
      },
      "source": [
        "**CONFIGURAR A NOSSA SPARKSESSION**"
      ]
    },
    {
      "cell_type": "code",
      "metadata": {
        "colab": {
          "base_uri": "https://localhost:8080/",
          "height": 216
        },
        "id": "FTC-5iQ41Ip0",
        "outputId": "8a37a96e-6db0-457d-cc09-37f818c1ca46"
      },
      "source": [
        "spark = (SparkSession.builder\\\n",
        "        .master(\"local\")\\\n",
        "        .appName(\"dataframe_soulcode_treino\")\\\n",
        "        .config(\"spark.ui.port\", \"4050\")\\\n",
        "        .getOrCreate())\n",
        "spark"
      ],
      "execution_count": 3,
      "outputs": [
        {
          "output_type": "execute_result",
          "data": {
            "text/html": [
              "\n",
              "            <div>\n",
              "                <p><b>SparkSession - in-memory</b></p>\n",
              "                \n",
              "        <div>\n",
              "            <p><b>SparkContext</b></p>\n",
              "\n",
              "            <p><a href=\"http://ca1200c85f55:4050\">Spark UI</a></p>\n",
              "\n",
              "            <dl>\n",
              "              <dt>Version</dt>\n",
              "                <dd><code>v3.2.0</code></dd>\n",
              "              <dt>Master</dt>\n",
              "                <dd><code>local</code></dd>\n",
              "              <dt>AppName</dt>\n",
              "                <dd><code>dataframe_soulcode_treino</code></dd>\n",
              "            </dl>\n",
              "        </div>\n",
              "        \n",
              "            </div>\n",
              "        "
            ],
            "text/plain": [
              "<pyspark.sql.session.SparkSession at 0x7f55616d0650>"
            ]
          },
          "metadata": {},
          "execution_count": 3
        }
      ]
    },
    {
      "cell_type": "markdown",
      "metadata": {
        "id": "KdVQIwjL2YtR"
      },
      "source": [
        "**MONTADO UM DATAFRAME NO PYSPARK**"
      ]
    },
    {
      "cell_type": "code",
      "metadata": {
        "colab": {
          "base_uri": "https://localhost:8080/"
        },
        "id": "u7QmUlcg2Vw9",
        "outputId": "4c9dd163-0d07-472e-df68-7315696e8bcb"
      },
      "source": [
        "dados = [\n",
        "         (\"Anderson\", \"Vendas\", \"SP\", 1500.00, 34, 1000.00),\n",
        "         (\"Kennedy\", \"Vendas\", \"CE\", 1200.00, 56, 2000.00),\n",
        "         (\"Bruno\", \"Vendas\", \"SP\", 1100.00, 30, 2300.00),\n",
        "         (\"Maria\", \"Financas\", \"CE\", 3600.00, 24, 2300.00),\n",
        "         (\"Eduardo\", \"Financas\", \"CE\", 4500.00, 40, 2400.00),\n",
        "         (\"Mendes\", \"Financas\", \"RS\", 8000.00, 36, 1900.00),\n",
        "         (\"Kethlyn\", \"Financas\", \"RS\", 1200.00, 53, 1500.00),\n",
        "         (\"Thiago\", \"Marketing\", \"GO\", 1100.00, 25, 1800.00),\n",
        "         (\"Carla\", \"Marketing\", \"GO\", 2600.00, 50, 2100.00)\n",
        "]\n",
        "schema = [\"Nome\", \"Departamento\", \"Estado\", \"Salario\", \"Idade\", \"Bonus\"]\n",
        "\n",
        "df = spark.createDataFrame(data=dados, schema=schema)\n",
        "df.show()\n",
        "df.printSchema()"
      ],
      "execution_count": 4,
      "outputs": [
        {
          "output_type": "stream",
          "name": "stdout",
          "text": [
            "+--------+------------+------+-------+-----+------+\n",
            "|    Nome|Departamento|Estado|Salario|Idade| Bonus|\n",
            "+--------+------------+------+-------+-----+------+\n",
            "|Anderson|      Vendas|    SP| 1500.0|   34|1000.0|\n",
            "| Kennedy|      Vendas|    CE| 1200.0|   56|2000.0|\n",
            "|   Bruno|      Vendas|    SP| 1100.0|   30|2300.0|\n",
            "|   Maria|    Finanças|    CE| 3600.0|   24|2300.0|\n",
            "| Eduardo|    Finanças|    CE| 4500.0|   40|2400.0|\n",
            "|  Mendes|    Finanças|    RS| 8000.0|   36|1900.0|\n",
            "| Kethlyn|    Finanças|    RS| 1200.0|   53|1500.0|\n",
            "|  Thiago|   Marketing|    GO| 1100.0|   25|1800.0|\n",
            "|   Carla|   Marketing|    GO| 2600.0|   50|2100.0|\n",
            "+--------+------------+------+-------+-----+------+\n",
            "\n",
            "root\n",
            " |-- Nome: string (nullable = true)\n",
            " |-- Departamento: string (nullable = true)\n",
            " |-- Estado: string (nullable = true)\n",
            " |-- Salario: double (nullable = true)\n",
            " |-- Idade: long (nullable = true)\n",
            " |-- Bonus: double (nullable = true)\n",
            "\n"
          ]
        }
      ]
    },
    {
      "cell_type": "code",
      "metadata": {
        "colab": {
          "base_uri": "https://localhost:8080/"
        },
        "id": "Hhy8KR7T5kML",
        "outputId": "74c32996-16f8-45b5-9b74-595c03588d14"
      },
      "source": [
        "dados2 = [\n",
        "         (\"Anderson\", \"Vendas\", \"SP\", 1500.00, 34, 1000.00),\n",
        "         (\"Kennedy\", \"Vendas\", \"CE\", 1200.00, 56, 2000.00),\n",
        "         (\"Bruno\", \"Vendas\", \"SP\", 1100.00, 30, 2300.00),\n",
        "         (\"Maria\", \"Financas\", \"CE\", 3600.00, 24, 2300.00),\n",
        "         (\"Eduardo\", \"Financas\", \"CE\", 4500.00, 40, 2400.00),\n",
        "         (\"Mendes\", \"Financas\", \"RS\", 8000.00, 36, 1900.00),\n",
        "         (\"Kethlyn\", \"Financas\", \"RS\", 1200.00, 53, 1500.00),\n",
        "         (\"Thiago\", \"Marketing\", \"GO\", 1100.00, 25, 1800.00),\n",
        "         (\"Carla\", \"Marketing\", \"GO\", 2600.00, 50, 2100.00)\n",
        "]\n",
        "\n",
        "schema2 = (\n",
        "    StructType([\n",
        "        StructField(\"Nome\",StringType(), True),\n",
        "        StructField(\"Departamento\", StringType(), True),\n",
        "        StructField(\"Estado\", StringType(), True),\n",
        "        StructField(\"Salario\", DoubleType(), True),\n",
        "        StructField(\"Idade\", IntegerType(), True),\n",
        "        StructField(\"Bonus\", DoubleType(), True)\n",
        "    ])\n",
        ")\n",
        "\n",
        "df2 = spark.createDataFrame(data=dados2, schema=schema2)\n",
        "df2.show()\n",
        "df2.printSchema()"
      ],
      "execution_count": 6,
      "outputs": [
        {
          "output_type": "stream",
          "name": "stdout",
          "text": [
            "+--------+------------+------+-------+-----+------+\n",
            "|    Nome|Departamento|Estado|Salario|Idade| Bonus|\n",
            "+--------+------------+------+-------+-----+------+\n",
            "|Anderson|      Vendas|    SP| 1500.0|   34|1000.0|\n",
            "| Kennedy|      Vendas|    CE| 1200.0|   56|2000.0|\n",
            "|   Bruno|      Vendas|    SP| 1100.0|   30|2300.0|\n",
            "|   Maria|    Finanças|    CE| 3600.0|   24|2300.0|\n",
            "| Eduardo|    Finanças|    CE| 4500.0|   40|2400.0|\n",
            "|  Mendes|    Finanças|    RS| 8000.0|   36|1900.0|\n",
            "| Kethlyn|    Finanças|    RS| 1200.0|   53|1500.0|\n",
            "|  Thiago|   Marketing|    GO| 1100.0|   25|1800.0|\n",
            "|   Carla|   Marketing|    GO| 2600.0|   50|2100.0|\n",
            "+--------+------------+------+-------+-----+------+\n",
            "\n",
            "root\n",
            " |-- Nome: string (nullable = true)\n",
            " |-- Departamento: string (nullable = true)\n",
            " |-- Estado: string (nullable = true)\n",
            " |-- Salario: double (nullable = true)\n",
            " |-- Idade: integer (nullable = true)\n",
            " |-- Bonus: double (nullable = true)\n",
            "\n"
          ]
        }
      ]
    },
    {
      "cell_type": "code",
      "metadata": {
        "colab": {
          "base_uri": "https://localhost:8080/"
        },
        "id": "JtNUWkoQ7Hi4",
        "outputId": "b2a11143-0d34-4098-b333-4a216cd489e5"
      },
      "source": [
        "df3 = df2.withColumn(\"Bonus_Proporcional\", F.round((df2['Bonus'] / df2['Salario']), 2))\n",
        "df3.show()"
      ],
      "execution_count": 14,
      "outputs": [
        {
          "output_type": "stream",
          "name": "stdout",
          "text": [
            "+--------+------------+------+-------+-----+------+------------------+\n",
            "|    Nome|Departamento|Estado|Salario|Idade| Bonus|Bonus_Proporcional|\n",
            "+--------+------------+------+-------+-----+------+------------------+\n",
            "|Anderson|      Vendas|    SP| 1500.0|   34|1000.0|              0.67|\n",
            "| Kennedy|      Vendas|    CE| 1200.0|   56|2000.0|              1.67|\n",
            "|   Bruno|      Vendas|    SP| 1100.0|   30|2300.0|              2.09|\n",
            "|   Maria|    Finanças|    CE| 3600.0|   24|2300.0|              0.64|\n",
            "| Eduardo|    Finanças|    CE| 4500.0|   40|2400.0|              0.53|\n",
            "|  Mendes|    Finanças|    RS| 8000.0|   36|1900.0|              0.24|\n",
            "| Kethlyn|    Finanças|    RS| 1200.0|   53|1500.0|              1.25|\n",
            "|  Thiago|   Marketing|    GO| 1100.0|   25|1800.0|              1.64|\n",
            "|   Carla|   Marketing|    GO| 2600.0|   50|2100.0|              0.81|\n",
            "+--------+------------+------+-------+-----+------+------------------+\n",
            "\n"
          ]
        }
      ]
    },
    {
      "cell_type": "code",
      "metadata": {
        "id": "j7pNsFDKAEIb"
      },
      "source": [
        ""
      ],
      "execution_count": null,
      "outputs": []
    }
  ]
}