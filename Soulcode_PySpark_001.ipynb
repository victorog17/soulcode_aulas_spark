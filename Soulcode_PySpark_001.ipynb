{
  "nbformat": 4,
  "nbformat_minor": 0,
  "metadata": {
    "colab": {
      "name": "Soulcode_PySpark_001.ipynb",
      "provenance": [],
      "collapsed_sections": [],
      "mount_file_id": "1yOYK6jHdsO-6cQ-6-0ewTMIsoiSmSnR6",
      "authorship_tag": "ABX9TyMWN/Jdq6ln9E6q9hKUCpZo",
      "include_colab_link": true
    },
    "kernelspec": {
      "name": "python3",
      "display_name": "Python 3"
    },
    "language_info": {
      "name": "python"
    }
  },
  "cells": [
    {
      "cell_type": "markdown",
      "metadata": {
        "id": "view-in-github",
        "colab_type": "text"
      },
      "source": [
        "<a href=\"https://colab.research.google.com/github/victorog17/soulcode_aulas_spark/blob/main/Soulcode_PySpark_001.ipynb\" target=\"_parent\"><img src=\"https://colab.research.google.com/assets/colab-badge.svg\" alt=\"Open In Colab\"/></a>"
      ]
    },
    {
      "cell_type": "markdown",
      "metadata": {
        "id": "Dfpp4soz6EPD"
      },
      "source": [
        "**BIBLIOTECAS**"
      ]
    },
    {
      "cell_type": "code",
      "metadata": {
        "id": "6h3Ldjf157iA"
      },
      "source": [
        "pip install pyspark"
      ],
      "execution_count": null,
      "outputs": []
    },
    {
      "cell_type": "code",
      "metadata": {
        "id": "tHuElZGe6P6G"
      },
      "source": [
        "from pyspark.sql import SparkSession\n",
        "import pyspark.sql.functions as F"
      ],
      "execution_count": 29,
      "outputs": []
    },
    {
      "cell_type": "markdown",
      "metadata": {
        "id": "iyAAEM3N6d0q"
      },
      "source": [
        "**CONFIGURAR A NOSSA SPARKSESSION**"
      ]
    },
    {
      "cell_type": "code",
      "metadata": {
        "id": "TanIlqZD6dAR"
      },
      "source": [
        "spark = (SparkSession.builder\\\n",
        "        .master(\"local\")\\\n",
        "        .appName(\"aprendendo-dataframes\")\\\n",
        "        .config(\"spark.ui.port\", \"4050\")\\\n",
        "        .getOrCreate())"
      ],
      "execution_count": 4,
      "outputs": []
    },
    {
      "cell_type": "code",
      "metadata": {
        "colab": {
          "base_uri": "https://localhost:8080/",
          "height": 221
        },
        "id": "pTKCWe6P7lYE",
        "outputId": "6a6581af-a5c3-4e3e-fddd-cd3d3885c80f"
      },
      "source": [
        "spark"
      ],
      "execution_count": 5,
      "outputs": [
        {
          "output_type": "execute_result",
          "data": {
            "text/html": [
              "\n",
              "            <div>\n",
              "                <p><b>SparkSession - in-memory</b></p>\n",
              "                \n",
              "        <div>\n",
              "            <p><b>SparkContext</b></p>\n",
              "\n",
              "            <p><a href=\"http://ee26e928c335:4050\">Spark UI</a></p>\n",
              "\n",
              "            <dl>\n",
              "              <dt>Version</dt>\n",
              "                <dd><code>v3.2.0</code></dd>\n",
              "              <dt>Master</dt>\n",
              "                <dd><code>local</code></dd>\n",
              "              <dt>AppName</dt>\n",
              "                <dd><code>aprendendo-dataframes</code></dd>\n",
              "            </dl>\n",
              "        </div>\n",
              "        \n",
              "            </div>\n",
              "        "
            ],
            "text/plain": [
              "<pyspark.sql.session.SparkSession at 0x7f0482262050>"
            ]
          },
          "metadata": {},
          "execution_count": 5
        }
      ]
    },
    {
      "cell_type": "markdown",
      "metadata": {
        "id": "LziqCUtH-hCA"
      },
      "source": [
        "**CRIANDO DATAFRAMES NO PYSPARK**"
      ]
    },
    {
      "cell_type": "code",
      "metadata": {
        "colab": {
          "base_uri": "https://localhost:8080/"
        },
        "id": "jQE-5mkq-Axf",
        "outputId": "f152ebab-7754-493c-b8a3-086e7652fe61"
      },
      "source": [
        "dados = [\n",
        "         (\"João da Silva\", \"São Paulo\", \"SP\", 1100.00),\n",
        "         (\"Maria dos Santos\", \"São Paulo\", \"SP\", 2100.00),\n",
        "         (\"Carlos Victor\", \"Rio de Janeiro\", \"RJ\", 2100.00),\n",
        "         (\"Pedro José\", \"Maceió\", \"AL\", 3600.00)\n",
        "]\n",
        "schema = [\"nome\", \"cidade\", \"estado\", \"salario\"]\n",
        "\n",
        "df = spark.createDataFrame(data=dados, schema=schema)\n",
        "df.show()\n",
        "df.printSchema()"
      ],
      "execution_count": 15,
      "outputs": [
        {
          "output_type": "stream",
          "name": "stdout",
          "text": [
            "+----------------+--------------+------+-------+\n",
            "|            nome|        cidade|estado|salario|\n",
            "+----------------+--------------+------+-------+\n",
            "|   João da Silva|     São Paulo|    SP| 1100.0|\n",
            "|Maria dos Santos|     São Paulo|    SP| 2100.0|\n",
            "|   Carlos Victor|Rio de Janeiro|    RJ| 2100.0|\n",
            "|      Pedro José|        Maceió|    AL| 3600.0|\n",
            "+----------------+--------------+------+-------+\n",
            "\n",
            "root\n",
            " |-- nome: string (nullable = true)\n",
            " |-- cidade: string (nullable = true)\n",
            " |-- estado: string (nullable = true)\n",
            " |-- salario: double (nullable = true)\n",
            "\n"
          ]
        }
      ]
    },
    {
      "cell_type": "markdown",
      "metadata": {
        "id": "o_-M0EzGD4Re"
      },
      "source": [
        "**IMPORTANDO CSV NO PYSPARK**"
      ]
    },
    {
      "cell_type": "code",
      "metadata": {
        "id": "e2CbZaWsBiwi"
      },
      "source": [
        "df2 = (spark\n",
        "      .read\n",
        "      .format(\"csv\")\n",
        "      .option(\"header\", \"true\")\n",
        "      .option(\"inferschema\", \"true\")\n",
        "      .option(\"delimiter\", \";\")\n",
        "      .load(\"/content/drive/MyDrive/Soul_Code_Academy/repositorio_pandas/arquivo_geral.csv\")\n",
        ")"
      ],
      "execution_count": 24,
      "outputs": []
    },
    {
      "cell_type": "code",
      "metadata": {
        "colab": {
          "base_uri": "https://localhost:8080/"
        },
        "id": "p2Zrj_ZXEq9z",
        "outputId": "2468f864-77e0-40f2-b1e0-f05f5a664c16"
      },
      "source": [
        "df2.show(5)\n",
        "df2.printSchema()"
      ],
      "execution_count": 25,
      "outputs": [
        {
          "output_type": "stream",
          "name": "stdout",
          "text": [
            "+------+------+----------+----------+---------------+-----------+----------------+\n",
            "|regiao|estado|      data|casosNovos|casosAcumulados|obitosNovos|obitosAcumulados|\n",
            "+------+------+----------+----------+---------------+-----------+----------------+\n",
            "| Norte|    RO|2020-01-30|         0|              0|          0|               0|\n",
            "| Norte|    RO|2020-01-31|         0|              0|          0|               0|\n",
            "| Norte|    RO|2020-02-01|         0|              0|          0|               0|\n",
            "| Norte|    RO|2020-02-02|         0|              0|          0|               0|\n",
            "| Norte|    RO|2020-02-03|         0|              0|          0|               0|\n",
            "+------+------+----------+----------+---------------+-----------+----------------+\n",
            "only showing top 5 rows\n",
            "\n",
            "root\n",
            " |-- regiao: string (nullable = true)\n",
            " |-- estado: string (nullable = true)\n",
            " |-- data: string (nullable = true)\n",
            " |-- casosNovos: integer (nullable = true)\n",
            " |-- casosAcumulados: integer (nullable = true)\n",
            " |-- obitosNovos: integer (nullable = true)\n",
            " |-- obitosAcumulados: integer (nullable = true)\n",
            "\n"
          ]
        }
      ]
    },
    {
      "cell_type": "markdown",
      "metadata": {
        "id": "8a3TWivkLQ8w"
      },
      "source": [
        "**COMANDOS SELECT E FILTER**"
      ]
    },
    {
      "cell_type": "code",
      "metadata": {
        "colab": {
          "base_uri": "https://localhost:8080/"
        },
        "id": "2dnqCb9JEvP1",
        "outputId": "c9c9825a-9c8c-40da-ad83-4ac018c8ff4a"
      },
      "source": [
        "#SELECT - 1ª FORMA DE UTILIZAÇÃO\n",
        "df2.select(\"regiao\", \"estado\", \"data\", \"casosNovos\").show(15)"
      ],
      "execution_count": 28,
      "outputs": [
        {
          "output_type": "stream",
          "name": "stdout",
          "text": [
            "+------+------+----------+----------+\n",
            "|regiao|estado|      data|casosNovos|\n",
            "+------+------+----------+----------+\n",
            "| Norte|    RO|2020-01-30|         0|\n",
            "| Norte|    RO|2020-01-31|         0|\n",
            "| Norte|    RO|2020-02-01|         0|\n",
            "| Norte|    RO|2020-02-02|         0|\n",
            "| Norte|    RO|2020-02-03|         0|\n",
            "| Norte|    RO|2020-02-04|         0|\n",
            "| Norte|    RO|2020-02-05|         0|\n",
            "| Norte|    RO|2020-02-06|         0|\n",
            "| Norte|    RO|2020-02-07|         0|\n",
            "| Norte|    RO|2020-02-08|         0|\n",
            "| Norte|    RO|2020-02-09|         0|\n",
            "| Norte|    RO|2020-02-10|         0|\n",
            "| Norte|    RO|2020-02-11|         0|\n",
            "| Norte|    RO|2020-02-12|         0|\n",
            "| Norte|    RO|2020-02-13|         0|\n",
            "+------+------+----------+----------+\n",
            "only showing top 15 rows\n",
            "\n"
          ]
        }
      ]
    },
    {
      "cell_type": "markdown",
      "metadata": {
        "id": "tIBu3hPLMqgb"
      },
      "source": [
        "**UTILIZANDO AS FUNCTIONS PARA TRABALHAR COM COLUNAS**"
      ]
    },
    {
      "cell_type": "code",
      "metadata": {
        "colab": {
          "base_uri": "https://localhost:8080/"
        },
        "id": "qc1H7zanLx6N",
        "outputId": "02cfa686-743c-4293-96fb-e8667b3678d2"
      },
      "source": [
        "#SELECT - 2ª FORMA DE UTILIZAÇÃO\n",
        "df2.select(F.col(\"regiao\"), F.col(\"estado\"), F.col(\"data\"), F.col(\"casosNovos\")).show(20)"
      ],
      "execution_count": 30,
      "outputs": [
        {
          "output_type": "stream",
          "name": "stdout",
          "text": [
            "+------+------+----------+----------+\n",
            "|regiao|estado|      data|casosNovos|\n",
            "+------+------+----------+----------+\n",
            "| Norte|    RO|2020-01-30|         0|\n",
            "| Norte|    RO|2020-01-31|         0|\n",
            "| Norte|    RO|2020-02-01|         0|\n",
            "| Norte|    RO|2020-02-02|         0|\n",
            "| Norte|    RO|2020-02-03|         0|\n",
            "| Norte|    RO|2020-02-04|         0|\n",
            "| Norte|    RO|2020-02-05|         0|\n",
            "| Norte|    RO|2020-02-06|         0|\n",
            "| Norte|    RO|2020-02-07|         0|\n",
            "| Norte|    RO|2020-02-08|         0|\n",
            "| Norte|    RO|2020-02-09|         0|\n",
            "| Norte|    RO|2020-02-10|         0|\n",
            "| Norte|    RO|2020-02-11|         0|\n",
            "| Norte|    RO|2020-02-12|         0|\n",
            "| Norte|    RO|2020-02-13|         0|\n",
            "| Norte|    RO|2020-02-14|         0|\n",
            "| Norte|    RO|2020-02-15|         0|\n",
            "| Norte|    RO|2020-02-16|         0|\n",
            "| Norte|    RO|2020-02-17|         0|\n",
            "| Norte|    RO|2020-02-18|         0|\n",
            "+------+------+----------+----------+\n",
            "only showing top 20 rows\n",
            "\n"
          ]
        }
      ]
    },
    {
      "cell_type": "markdown",
      "metadata": {
        "id": "eyrUc5YgNojT"
      },
      "source": [
        "**1ª MANEIRA - EXIBIR A REGIÃO, ESTADOS E CASOS NOVOS APENAS DA REGIÃO NORTE**"
      ]
    },
    {
      "cell_type": "code",
      "metadata": {
        "colab": {
          "base_uri": "https://localhost:8080/"
        },
        "id": "uPNY-g8nNISm",
        "outputId": "7d6e9da0-5f86-4f8f-911c-e4d86c12e857"
      },
      "source": [
        "df2.select(F.col(\"regiao\"), F.col(\"estado\"), F.col(\"casosNovos\")).filter(F.col(\"regiao\") == \"Sul\").show(12)"
      ],
      "execution_count": 49,
      "outputs": [
        {
          "output_type": "stream",
          "name": "stdout",
          "text": [
            "+------+------+----------+\n",
            "|regiao|estado|casosNovos|\n",
            "+------+------+----------+\n",
            "|   Sul|    PR|         0|\n",
            "|   Sul|    PR|         0|\n",
            "|   Sul|    PR|         0|\n",
            "|   Sul|    PR|         0|\n",
            "|   Sul|    PR|         0|\n",
            "|   Sul|    PR|         0|\n",
            "|   Sul|    PR|         0|\n",
            "|   Sul|    PR|         0|\n",
            "|   Sul|    PR|         0|\n",
            "|   Sul|    PR|         0|\n",
            "|   Sul|    PR|         0|\n",
            "|   Sul|    PR|         0|\n",
            "+------+------+----------+\n",
            "only showing top 12 rows\n",
            "\n"
          ]
        }
      ]
    },
    {
      "cell_type": "code",
      "metadata": {
        "colab": {
          "base_uri": "https://localhost:8080/"
        },
        "id": "6ZQkx5lNQ_M9",
        "outputId": "7310e519-2f7a-43bc-ef64-4efd0a77ee80"
      },
      "source": [
        "print(f'Rows: {df2.count()} | Columns: {len(df2.columns)}')"
      ],
      "execution_count": 41,
      "outputs": [
        {
          "output_type": "stream",
          "name": "stdout",
          "text": [
            "Rows: 2349 | Columns: 7\n"
          ]
        }
      ]
    },
    {
      "cell_type": "markdown",
      "metadata": {
        "id": "FJEhNPvgVShc"
      },
      "source": [
        "**2ª MANEIRA - EXIBIR A REGIÃO, ESTADOS E CASOS NOVOS APENAS DA REGIÃO NORTE**"
      ]
    },
    {
      "cell_type": "code",
      "metadata": {
        "colab": {
          "base_uri": "https://localhost:8080/"
        },
        "id": "dw-4KxVSQ1n-",
        "outputId": "f4846067-0c8f-4251-c321-8f898a8de39b"
      },
      "source": [
        "df2.select(F.col(\"regiao\"), \n",
        "           F.col(\"estado\"), \n",
        "           F.col(\"casosNovos\")).filter(df2[\"regiao\"] == \"Nordeste\").show(13)"
      ],
      "execution_count": 48,
      "outputs": [
        {
          "output_type": "stream",
          "name": "stdout",
          "text": [
            "+--------+------+----------+\n",
            "|  regiao|estado|casosNovos|\n",
            "+--------+------+----------+\n",
            "|Nordeste|    MA|         0|\n",
            "|Nordeste|    MA|         0|\n",
            "|Nordeste|    MA|         0|\n",
            "|Nordeste|    MA|         0|\n",
            "|Nordeste|    MA|         0|\n",
            "|Nordeste|    MA|         0|\n",
            "|Nordeste|    MA|         0|\n",
            "|Nordeste|    MA|         0|\n",
            "|Nordeste|    MA|         0|\n",
            "|Nordeste|    MA|         0|\n",
            "|Nordeste|    MA|         0|\n",
            "|Nordeste|    MA|         0|\n",
            "|Nordeste|    MA|         0|\n",
            "+--------+------+----------+\n",
            "only showing top 13 rows\n",
            "\n"
          ]
        }
      ]
    },
    {
      "cell_type": "markdown",
      "metadata": {
        "id": "Fph4q1YOWZYk"
      },
      "source": [
        "**3ª MANEIRA - EXIBIR A REGIÃO, ESTADOS E CASOS NOVOS APENAS DA REGIÃO NORTE**"
      ]
    },
    {
      "cell_type": "code",
      "metadata": {
        "colab": {
          "base_uri": "https://localhost:8080/"
        },
        "id": "_oBG9hOWVdp8",
        "outputId": "4f8ca84a-a3dd-44ea-9db8-a67eedaf2f02"
      },
      "source": [
        "df2.select(F.col(\"regiao\"), \n",
        "           F.col(\"estado\"), \n",
        "           F.col(\"casosNovos\")).filter(\"regiao = 'Sudeste'\").show(14)"
      ],
      "execution_count": 47,
      "outputs": [
        {
          "output_type": "stream",
          "name": "stdout",
          "text": [
            "+-------+------+----------+\n",
            "| regiao|estado|casosNovos|\n",
            "+-------+------+----------+\n",
            "|Sudeste|    MG|         0|\n",
            "|Sudeste|    MG|         0|\n",
            "|Sudeste|    MG|         0|\n",
            "|Sudeste|    MG|         0|\n",
            "|Sudeste|    MG|         0|\n",
            "|Sudeste|    MG|         0|\n",
            "|Sudeste|    MG|         0|\n",
            "|Sudeste|    MG|         0|\n",
            "|Sudeste|    MG|         0|\n",
            "|Sudeste|    MG|         0|\n",
            "|Sudeste|    MG|         0|\n",
            "|Sudeste|    MG|         0|\n",
            "|Sudeste|    MG|         0|\n",
            "|Sudeste|    MG|         0|\n",
            "+-------+------+----------+\n",
            "only showing top 14 rows\n",
            "\n"
          ]
        }
      ]
    },
    {
      "cell_type": "markdown",
      "metadata": {
        "id": "9LMQKCT7Wz2H"
      },
      "source": [
        "**4ª MANEIRA - EXIBIR A REGIÃO, ESTADOS E CASOS NOVOS APENAS DA REGIÃO NORTE**"
      ]
    },
    {
      "cell_type": "code",
      "metadata": {
        "colab": {
          "base_uri": "https://localhost:8080/"
        },
        "id": "HyH7wkdEWw_w",
        "outputId": "f5718435-2200-4c62-fdb4-d37ad25355c0"
      },
      "source": [
        "filtro = F.col(\"regiao\") == \"Sul\"\n",
        "df2.select(F.col(\"regiao\"), F.col(\"estado\"), F.col(\"casosNovos\")).filter(filtro).show(15)"
      ],
      "execution_count": 46,
      "outputs": [
        {
          "output_type": "stream",
          "name": "stdout",
          "text": [
            "+------+------+----------+\n",
            "|regiao|estado|casosNovos|\n",
            "+------+------+----------+\n",
            "|   Sul|    PR|         0|\n",
            "|   Sul|    PR|         0|\n",
            "|   Sul|    PR|         0|\n",
            "|   Sul|    PR|         0|\n",
            "|   Sul|    PR|         0|\n",
            "|   Sul|    PR|         0|\n",
            "|   Sul|    PR|         0|\n",
            "|   Sul|    PR|         0|\n",
            "|   Sul|    PR|         0|\n",
            "|   Sul|    PR|         0|\n",
            "|   Sul|    PR|         0|\n",
            "|   Sul|    PR|         0|\n",
            "|   Sul|    PR|         0|\n",
            "|   Sul|    PR|         0|\n",
            "|   Sul|    PR|         0|\n",
            "+------+------+----------+\n",
            "only showing top 15 rows\n",
            "\n"
          ]
        }
      ]
    },
    {
      "cell_type": "markdown",
      "metadata": {
        "id": "7zNltpkwXSfY"
      },
      "source": [
        "**CRIANDO UMA LISTA DINÂMICA COM VÁRIAS COLUNAS PARA SE UTILIZAR DENTRO DO COMANDO SELECT**"
      ]
    },
    {
      "cell_type": "code",
      "metadata": {
        "colab": {
          "base_uri": "https://localhost:8080/"
        },
        "id": "XIqkQ9qOXHNV",
        "outputId": "419fd20a-d416-4167-b854-5e4b562278f5"
      },
      "source": [
        "lista_colunas = [\"regiao\", \"estado\", \"casosNovos\", \"obitosNovos\", \"obitosAcumulados\"]\n",
        "df2.select(lista_colunas).show(16)\n",
        "df2.printSchema()"
      ],
      "execution_count": 52,
      "outputs": [
        {
          "output_type": "stream",
          "name": "stdout",
          "text": [
            "+------+------+----------+-----------+----------------+\n",
            "|regiao|estado|casosNovos|obitosNovos|obitosAcumulados|\n",
            "+------+------+----------+-----------+----------------+\n",
            "| Norte|    RO|         0|          0|               0|\n",
            "| Norte|    RO|         0|          0|               0|\n",
            "| Norte|    RO|         0|          0|               0|\n",
            "| Norte|    RO|         0|          0|               0|\n",
            "| Norte|    RO|         0|          0|               0|\n",
            "| Norte|    RO|         0|          0|               0|\n",
            "| Norte|    RO|         0|          0|               0|\n",
            "| Norte|    RO|         0|          0|               0|\n",
            "| Norte|    RO|         0|          0|               0|\n",
            "| Norte|    RO|         0|          0|               0|\n",
            "| Norte|    RO|         0|          0|               0|\n",
            "| Norte|    RO|         0|          0|               0|\n",
            "| Norte|    RO|         0|          0|               0|\n",
            "| Norte|    RO|         0|          0|               0|\n",
            "| Norte|    RO|         0|          0|               0|\n",
            "| Norte|    RO|         0|          0|               0|\n",
            "+------+------+----------+-----------+----------------+\n",
            "only showing top 16 rows\n",
            "\n",
            "root\n",
            " |-- regiao: string (nullable = true)\n",
            " |-- estado: string (nullable = true)\n",
            " |-- data: string (nullable = true)\n",
            " |-- casosNovos: integer (nullable = true)\n",
            " |-- casosAcumulados: integer (nullable = true)\n",
            " |-- obitosNovos: integer (nullable = true)\n",
            " |-- obitosAcumulados: integer (nullable = true)\n",
            "\n"
          ]
        }
      ]
    },
    {
      "cell_type": "markdown",
      "metadata": {
        "id": "c1bb1tx_YG2a"
      },
      "source": [
        "**APLICAR MAIS DE UM FILTRO DENTRO DO DATAFRAME**"
      ]
    },
    {
      "cell_type": "code",
      "metadata": {
        "colab": {
          "base_uri": "https://localhost:8080/"
        },
        "id": "tfVFq2KcXm7J",
        "outputId": "55aa2f01-d0d6-46c1-8af7-dea7f72c0c47"
      },
      "source": [
        "#FAZER FILTRAGEM PELA REGIÃO NORTE E ESTADO DO AMAZONAS\n",
        "df2.select(F.col(\"regiao\"), \n",
        "           F.col(\"estado\")).filter(F.col(\"regiao\") == \"Norte\").filter(F.col(\"estado\") == \"AM\").show(17)"
      ],
      "execution_count": 53,
      "outputs": [
        {
          "output_type": "stream",
          "name": "stdout",
          "text": [
            "+------+------+\n",
            "|regiao|estado|\n",
            "+------+------+\n",
            "| Norte|    AM|\n",
            "| Norte|    AM|\n",
            "| Norte|    AM|\n",
            "| Norte|    AM|\n",
            "| Norte|    AM|\n",
            "| Norte|    AM|\n",
            "| Norte|    AM|\n",
            "| Norte|    AM|\n",
            "| Norte|    AM|\n",
            "| Norte|    AM|\n",
            "| Norte|    AM|\n",
            "| Norte|    AM|\n",
            "| Norte|    AM|\n",
            "| Norte|    AM|\n",
            "| Norte|    AM|\n",
            "| Norte|    AM|\n",
            "| Norte|    AM|\n",
            "+------+------+\n",
            "only showing top 17 rows\n",
            "\n"
          ]
        }
      ]
    },
    {
      "cell_type": "code",
      "metadata": {
        "colab": {
          "base_uri": "https://localhost:8080/"
        },
        "id": "fK7gD3NcZG3P",
        "outputId": "33ce086d-5d3d-4a43-8053-c07462a01ece"
      },
      "source": [
        "filtro01 = F.col(\"regiao\") == \"Norte\"\n",
        "filtro02 = F.col(\"estado\") == \"AM\"\n",
        "df2.select(F.col(\"regiao\"), \n",
        "           F.col(\"estado\")).filter(filtro01 & filtro02).show(17)"
      ],
      "execution_count": 54,
      "outputs": [
        {
          "output_type": "stream",
          "name": "stdout",
          "text": [
            "+------+------+\n",
            "|regiao|estado|\n",
            "+------+------+\n",
            "| Norte|    AM|\n",
            "| Norte|    AM|\n",
            "| Norte|    AM|\n",
            "| Norte|    AM|\n",
            "| Norte|    AM|\n",
            "| Norte|    AM|\n",
            "| Norte|    AM|\n",
            "| Norte|    AM|\n",
            "| Norte|    AM|\n",
            "| Norte|    AM|\n",
            "| Norte|    AM|\n",
            "| Norte|    AM|\n",
            "| Norte|    AM|\n",
            "| Norte|    AM|\n",
            "| Norte|    AM|\n",
            "| Norte|    AM|\n",
            "| Norte|    AM|\n",
            "+------+------+\n",
            "only showing top 17 rows\n",
            "\n"
          ]
        }
      ]
    },
    {
      "cell_type": "code",
      "metadata": {
        "colab": {
          "base_uri": "https://localhost:8080/"
        },
        "id": "KY0G_jIvZW2D",
        "outputId": "5bd40708-8810-4bc2-e873-14e8d475d49d"
      },
      "source": [
        "df2.filter(F.col(\"regiao\") == \"Norte\").filter(F.col(\"estado\") == \"AM\").show(18)"
      ],
      "execution_count": 55,
      "outputs": [
        {
          "output_type": "stream",
          "name": "stdout",
          "text": [
            "+------+------+----------+----------+---------------+-----------+----------------+\n",
            "|regiao|estado|      data|casosNovos|casosAcumulados|obitosNovos|obitosAcumulados|\n",
            "+------+------+----------+----------+---------------+-----------+----------------+\n",
            "| Norte|    AM|2020-01-30|         0|              0|          0|               0|\n",
            "| Norte|    AM|2020-01-31|         0|              0|          0|               0|\n",
            "| Norte|    AM|2020-02-01|         0|              0|          0|               0|\n",
            "| Norte|    AM|2020-02-02|         0|              0|          0|               0|\n",
            "| Norte|    AM|2020-02-03|         0|              0|          0|               0|\n",
            "| Norte|    AM|2020-02-04|         0|              0|          0|               0|\n",
            "| Norte|    AM|2020-02-05|         0|              0|          0|               0|\n",
            "| Norte|    AM|2020-02-06|         0|              0|          0|               0|\n",
            "| Norte|    AM|2020-02-07|         0|              0|          0|               0|\n",
            "| Norte|    AM|2020-02-08|         0|              0|          0|               0|\n",
            "| Norte|    AM|2020-02-09|         0|              0|          0|               0|\n",
            "| Norte|    AM|2020-02-10|         0|              0|          0|               0|\n",
            "| Norte|    AM|2020-02-11|         0|              0|          0|               0|\n",
            "| Norte|    AM|2020-02-12|         0|              0|          0|               0|\n",
            "| Norte|    AM|2020-02-13|         0|              0|          0|               0|\n",
            "| Norte|    AM|2020-02-14|         0|              0|          0|               0|\n",
            "| Norte|    AM|2020-02-15|         0|              0|          0|               0|\n",
            "| Norte|    AM|2020-02-16|         0|              0|          0|               0|\n",
            "+------+------+----------+----------+---------------+-----------+----------------+\n",
            "only showing top 18 rows\n",
            "\n"
          ]
        }
      ]
    },
    {
      "cell_type": "code",
      "metadata": {
        "id": "QSAxgiPEZ2ve"
      },
      "source": [
        ""
      ],
      "execution_count": null,
      "outputs": []
    }
  ]
}