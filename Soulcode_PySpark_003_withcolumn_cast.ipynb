{
  "nbformat": 4,
  "nbformat_minor": 0,
  "metadata": {
    "colab": {
      "name": "Soulcode_PySpark_003_withcolumn_cast.ipynb",
      "provenance": [],
      "collapsed_sections": [],
      "mount_file_id": "19o8RkWKojEEdz617KIxpSNL2C4Wn8tC4",
      "authorship_tag": "ABX9TyPkt9a7uCkJkSSc1008i5Ba",
      "include_colab_link": true
    },
    "kernelspec": {
      "name": "python3",
      "display_name": "Python 3"
    },
    "language_info": {
      "name": "python"
    }
  },
  "cells": [
    {
      "cell_type": "markdown",
      "metadata": {
        "id": "view-in-github",
        "colab_type": "text"
      },
      "source": [
        "<a href=\"https://colab.research.google.com/github/victorog17/soulcode_aulas_spark/blob/main/Soulcode_PySpark_003_withcolumn_cast.ipynb\" target=\"_parent\"><img src=\"https://colab.research.google.com/assets/colab-badge.svg\" alt=\"Open In Colab\"/></a>"
      ]
    },
    {
      "cell_type": "markdown",
      "metadata": {
        "id": "nskq9x_4H4cz"
      },
      "source": [
        "**BIBLIOTECAS**"
      ]
    },
    {
      "cell_type": "code",
      "metadata": {
        "colab": {
          "base_uri": "https://localhost:8080/"
        },
        "id": "0lUkmPKXHuv1",
        "outputId": "aefbfa16-f0c2-483a-a716-75c64090cf95"
      },
      "source": [
        "pip install pyspark"
      ],
      "execution_count": 20,
      "outputs": [
        {
          "output_type": "stream",
          "name": "stdout",
          "text": [
            "Requirement already satisfied: pyspark in /usr/local/lib/python3.7/dist-packages (3.2.0)\n",
            "Requirement already satisfied: py4j==0.10.9.2 in /usr/local/lib/python3.7/dist-packages (from pyspark) (0.10.9.2)\n"
          ]
        }
      ]
    },
    {
      "cell_type": "code",
      "metadata": {
        "id": "6KJfHjEfH9mt"
      },
      "source": [
        "from pyspark.sql import SparkSession\n",
        "import pyspark.sql.functions as F"
      ],
      "execution_count": 21,
      "outputs": []
    },
    {
      "cell_type": "markdown",
      "metadata": {
        "id": "FL_hMNv1IC9d"
      },
      "source": [
        "**CONFIGURAR A NOSSA SPARKSESSION**"
      ]
    },
    {
      "cell_type": "code",
      "metadata": {
        "id": "6Xsut_yPH_YS"
      },
      "source": [
        "spark = (SparkSession.builder\\\n",
        "        .master(\"local\")\\\n",
        "        .appName(\"dataframe_withcolumn\")\\\n",
        "        .config(\"spark.ui.port\", \"4050\")\\\n",
        "        .getOrCreate())"
      ],
      "execution_count": 22,
      "outputs": []
    },
    {
      "cell_type": "code",
      "metadata": {
        "colab": {
          "base_uri": "https://localhost:8080/",
          "height": 221
        },
        "id": "VUwk2E_PIF1p",
        "outputId": "8b655108-5f00-4ffe-9f1c-ab033d9d733f"
      },
      "source": [
        "spark"
      ],
      "execution_count": 23,
      "outputs": [
        {
          "output_type": "execute_result",
          "data": {
            "text/html": [
              "\n",
              "            <div>\n",
              "                <p><b>SparkSession - in-memory</b></p>\n",
              "                \n",
              "        <div>\n",
              "            <p><b>SparkContext</b></p>\n",
              "\n",
              "            <p><a href=\"http://9bd04ba69d55:4050\">Spark UI</a></p>\n",
              "\n",
              "            <dl>\n",
              "              <dt>Version</dt>\n",
              "                <dd><code>v3.2.0</code></dd>\n",
              "              <dt>Master</dt>\n",
              "                <dd><code>local</code></dd>\n",
              "              <dt>AppName</dt>\n",
              "                <dd><code>dataframe_withcolumn</code></dd>\n",
              "            </dl>\n",
              "        </div>\n",
              "        \n",
              "            </div>\n",
              "        "
            ],
            "text/plain": [
              "<pyspark.sql.session.SparkSession at 0x7f7e703c4cd0>"
            ]
          },
          "metadata": {},
          "execution_count": 23
        }
      ]
    },
    {
      "cell_type": "markdown",
      "metadata": {
        "id": "vA4U02FWIR6g"
      },
      "source": [
        "**IMPORTANDO CSV NO PYSPARK**"
      ]
    },
    {
      "cell_type": "code",
      "metadata": {
        "colab": {
          "base_uri": "https://localhost:8080/"
        },
        "id": "pNh8XD6SIHnj",
        "outputId": "7d47cc6c-937b-4820-ae6b-21ff1c48d19f"
      },
      "source": [
        "df1 = (spark\n",
        "      .read\n",
        "      .format(\"csv\")\n",
        "      .option(\"header\", \"true\")\n",
        "      .option(\"inferschema\", \"true\")\n",
        "      .option(\"delimiter\", \";\")\n",
        "      .load(\"/content/drive/MyDrive/Soul_Code_Academy/repositorio_pandas/arquivo_geral.csv\")\n",
        ")\n",
        "df1.show(5)\n",
        "df1.printSchema()"
      ],
      "execution_count": 45,
      "outputs": [
        {
          "output_type": "stream",
          "name": "stdout",
          "text": [
            "+------+------+----------+----------+---------------+-----------+----------------+\n",
            "|regiao|estado|      data|casosNovos|casosAcumulados|obitosNovos|obitosAcumulados|\n",
            "+------+------+----------+----------+---------------+-----------+----------------+\n",
            "| Norte|    RO|2020-01-30|         0|              0|          0|               0|\n",
            "| Norte|    RO|2020-01-31|         0|              0|          0|               0|\n",
            "| Norte|    RO|2020-02-01|         0|              0|          0|               0|\n",
            "| Norte|    RO|2020-02-02|         0|              0|          0|               0|\n",
            "| Norte|    RO|2020-02-03|         0|              0|          0|               0|\n",
            "+------+------+----------+----------+---------------+-----------+----------------+\n",
            "only showing top 5 rows\n",
            "\n",
            "root\n",
            " |-- regiao: string (nullable = true)\n",
            " |-- estado: string (nullable = true)\n",
            " |-- data: string (nullable = true)\n",
            " |-- casosNovos: integer (nullable = true)\n",
            " |-- casosAcumulados: integer (nullable = true)\n",
            " |-- obitosNovos: integer (nullable = true)\n",
            " |-- obitosAcumulados: integer (nullable = true)\n",
            "\n"
          ]
        }
      ]
    },
    {
      "cell_type": "markdown",
      "metadata": {
        "id": "cOfDs4tYJ7nk"
      },
      "source": [
        "**VAMOS CRIAR UMA NOVA COLUNA COM UM VALOR ALEATÓRIO**"
      ]
    },
    {
      "cell_type": "code",
      "metadata": {
        "colab": {
          "base_uri": "https://localhost:8080/"
        },
        "id": "S54qDqnZIXd0",
        "outputId": "eb2bbf2e-c0ca-48bb-ff72-eb3078448f5f"
      },
      "source": [
        "valor = 25\n",
        "df_novo = df1.withColumn(\"novo_valor\", F.lit(valor))\n",
        "df_novo.show(10)"
      ],
      "execution_count": 25,
      "outputs": [
        {
          "output_type": "stream",
          "name": "stdout",
          "text": [
            "+------+------+----------+----------+---------------+-----------+----------------+----------+\n",
            "|regiao|estado|      data|casosNovos|casosAcumulados|obitosNovos|obitosAcumulados|novo_valor|\n",
            "+------+------+----------+----------+---------------+-----------+----------------+----------+\n",
            "| Norte|    RO|2020-01-30|         0|              0|          0|               0|        25|\n",
            "| Norte|    RO|2020-01-31|         0|              0|          0|               0|        25|\n",
            "| Norte|    RO|2020-02-01|         0|              0|          0|               0|        25|\n",
            "| Norte|    RO|2020-02-02|         0|              0|          0|               0|        25|\n",
            "| Norte|    RO|2020-02-03|         0|              0|          0|               0|        25|\n",
            "| Norte|    RO|2020-02-04|         0|              0|          0|               0|        25|\n",
            "| Norte|    RO|2020-02-05|         0|              0|          0|               0|        25|\n",
            "| Norte|    RO|2020-02-06|         0|              0|          0|               0|        25|\n",
            "| Norte|    RO|2020-02-07|         0|              0|          0|               0|        25|\n",
            "| Norte|    RO|2020-02-08|         0|              0|          0|               0|        25|\n",
            "+------+------+----------+----------+---------------+-----------+----------------+----------+\n",
            "only showing top 10 rows\n",
            "\n"
          ]
        }
      ]
    },
    {
      "cell_type": "code",
      "metadata": {
        "colab": {
          "base_uri": "https://localhost:8080/"
        },
        "id": "jmNwEJhTKe3s",
        "outputId": "25ed8ded-99ae-4feb-9262-3dad7119922f"
      },
      "source": [
        "df_novo.printSchema()"
      ],
      "execution_count": 26,
      "outputs": [
        {
          "output_type": "stream",
          "name": "stdout",
          "text": [
            "root\n",
            " |-- regiao: string (nullable = true)\n",
            " |-- estado: string (nullable = true)\n",
            " |-- data: string (nullable = true)\n",
            " |-- casosNovos: integer (nullable = true)\n",
            " |-- casosAcumulados: integer (nullable = true)\n",
            " |-- obitosNovos: integer (nullable = true)\n",
            " |-- obitosAcumulados: integer (nullable = true)\n",
            " |-- novo_valor: integer (nullable = false)\n",
            "\n"
          ]
        }
      ]
    },
    {
      "cell_type": "code",
      "metadata": {
        "colab": {
          "base_uri": "https://localhost:8080/"
        },
        "id": "5ynuJGtiK2rA",
        "outputId": "a08727ed-1016-4cd8-e1e8-7cdaac1308a0"
      },
      "source": [
        "df_novo_cast = df_novo.select(F.col(\"novo_valor\").cast(\"string\"))\n",
        "\n",
        "df_novo_cast.printSchema()"
      ],
      "execution_count": 27,
      "outputs": [
        {
          "output_type": "stream",
          "name": "stdout",
          "text": [
            "root\n",
            " |-- novo_valor: string (nullable = false)\n",
            "\n"
          ]
        }
      ]
    },
    {
      "cell_type": "markdown",
      "metadata": {
        "id": "ppCHHkr4Odal"
      },
      "source": [
        "**CRIAR UM CAST NA NOVA COLUNA DENTRO DO PRÓPRIA DATAFRAME df1**"
      ]
    },
    {
      "cell_type": "code",
      "metadata": {
        "colab": {
          "base_uri": "https://localhost:8080/"
        },
        "id": "v1ZdsXyqLYeR",
        "outputId": "94b047ac-71ab-4cf2-9037-7ab7b2db689f"
      },
      "source": [
        "valor = 25\n",
        "valor2 = 100\n",
        "df1 = df1.withColumn(\"novo_valor\", F.lit(valor))\n",
        "df1.show(10)"
      ],
      "execution_count": 47,
      "outputs": [
        {
          "output_type": "stream",
          "name": "stdout",
          "text": [
            "+------+------+----------+----------+---------------+-----------+----------------+----------+\n",
            "|regiao|estado|      data|casosNovos|casosAcumulados|obitosNovos|obitosAcumulados|novo_valor|\n",
            "+------+------+----------+----------+---------------+-----------+----------------+----------+\n",
            "| Norte|    RO|2020-01-30|         0|              0|          0|               0|        25|\n",
            "| Norte|    RO|2020-01-31|         0|              0|          0|               0|        25|\n",
            "| Norte|    RO|2020-02-01|         0|              0|          0|               0|        25|\n",
            "| Norte|    RO|2020-02-02|         0|              0|          0|               0|        25|\n",
            "| Norte|    RO|2020-02-03|         0|              0|          0|               0|        25|\n",
            "| Norte|    RO|2020-02-04|         0|              0|          0|               0|        25|\n",
            "| Norte|    RO|2020-02-05|         0|              0|          0|               0|        25|\n",
            "| Norte|    RO|2020-02-06|         0|              0|          0|               0|        25|\n",
            "| Norte|    RO|2020-02-07|         0|              0|          0|               0|        25|\n",
            "| Norte|    RO|2020-02-08|         0|              0|          0|               0|        25|\n",
            "+------+------+----------+----------+---------------+-----------+----------------+----------+\n",
            "only showing top 10 rows\n",
            "\n"
          ]
        }
      ]
    },
    {
      "cell_type": "code",
      "metadata": {
        "colab": {
          "base_uri": "https://localhost:8080/"
        },
        "id": "kfvFYeuWjzKD",
        "outputId": "d9e25452-dc95-4a86-b703-3c5d2f459b9c"
      },
      "source": [
        "df_obitosAcumulados_cast = df1.select(F.col(\"obitosAcumulados\").cast(\"string\"))\n",
        "df_obitosAcumulados_cast.show(3)"
      ],
      "execution_count": 53,
      "outputs": [
        {
          "output_type": "stream",
          "name": "stdout",
          "text": [
            "+----------------+\n",
            "|obitosAcumulados|\n",
            "+----------------+\n",
            "|               0|\n",
            "|               0|\n",
            "|               0|\n",
            "+----------------+\n",
            "only showing top 3 rows\n",
            "\n"
          ]
        }
      ]
    },
    {
      "cell_type": "code",
      "metadata": {
        "colab": {
          "base_uri": "https://localhost:8080/"
        },
        "id": "gzDm3kk-ktIz",
        "outputId": "05c37992-a040-46d8-9c4d-db834bf6c4e6"
      },
      "source": [
        "df_obitosAcumulados_cast.printSchema()"
      ],
      "execution_count": 54,
      "outputs": [
        {
          "output_type": "stream",
          "name": "stdout",
          "text": [
            "root\n",
            " |-- obitosAcumulados: string (nullable = true)\n",
            "\n"
          ]
        }
      ]
    },
    {
      "cell_type": "markdown",
      "metadata": {
        "id": "BfY4UDkhmlV3"
      },
      "source": [
        "**CONTINUAÇÃO CRIAR UM CAST NA NOVA COLUNA DENTRO DO PRÓPRIA DATAFRAME df1**"
      ]
    },
    {
      "cell_type": "code",
      "metadata": {
        "colab": {
          "base_uri": "https://localhost:8080/"
        },
        "id": "x95kkYYwkwoY",
        "outputId": "62f6a0eb-9647-4e19-ebde-89d47903f2e1"
      },
      "source": [
        "#df1 = df1.withColumn(\"novo_valor\", F.col(\"novo_valor\").cast(\"string\"))\n",
        "#df1 = df1.withColumn(\"novo_valor\", F.lit(valor).cast(\"string\"))\n",
        "df1 = df1.withColumn(\"novo_valor\", df1['novo_valor'].cast(\"string\"))\n",
        "df1.printSchema()"
      ],
      "execution_count": 55,
      "outputs": [
        {
          "output_type": "stream",
          "name": "stdout",
          "text": [
            "root\n",
            " |-- regiao: string (nullable = true)\n",
            " |-- estado: string (nullable = true)\n",
            " |-- data: string (nullable = true)\n",
            " |-- casosNovos: integer (nullable = true)\n",
            " |-- casosAcumulados: integer (nullable = true)\n",
            " |-- obitosNovos: integer (nullable = true)\n",
            " |-- obitosAcumulados: integer (nullable = true)\n",
            " |-- novo_valor: string (nullable = false)\n",
            "\n"
          ]
        }
      ]
    },
    {
      "cell_type": "markdown",
      "metadata": {
        "id": "NCbhzWkAp1r-"
      },
      "source": [
        "**CRIAR UMA NOVA COLUNA PARA SOMAR OUTRAS COLUNAS**"
      ]
    },
    {
      "cell_type": "code",
      "metadata": {
        "colab": {
          "base_uri": "https://localhost:8080/"
        },
        "id": "mdVUCQwNm-s8",
        "outputId": "7cb80bcd-a8c5-43e0-bf1a-6a44cd03fed7"
      },
      "source": [
        "#df1 = df1.withColumn(\"soma_obitos_novos_acumulados\", F.col(\"obitosNovos\") + F.col(\"obitosAcumulados\"))\n",
        "df1 = df1.withColumn(\"soma_obitos_novos_acumulados\", df1['obitosNovos'] + df1['obitosAcumulados'])\n",
        "df1.show(15)"
      ],
      "execution_count": 57,
      "outputs": [
        {
          "output_type": "stream",
          "name": "stdout",
          "text": [
            "+------+------+----------+----------+---------------+-----------+----------------+----------+----------------------------+\n",
            "|regiao|estado|      data|casosNovos|casosAcumulados|obitosNovos|obitosAcumulados|novo_valor|soma_obitos_novos_acumulados|\n",
            "+------+------+----------+----------+---------------+-----------+----------------+----------+----------------------------+\n",
            "| Norte|    RO|2020-01-30|         0|              0|          0|               0|        25|                           0|\n",
            "| Norte|    RO|2020-01-31|         0|              0|          0|               0|        25|                           0|\n",
            "| Norte|    RO|2020-02-01|         0|              0|          0|               0|        25|                           0|\n",
            "| Norte|    RO|2020-02-02|         0|              0|          0|               0|        25|                           0|\n",
            "| Norte|    RO|2020-02-03|         0|              0|          0|               0|        25|                           0|\n",
            "| Norte|    RO|2020-02-04|         0|              0|          0|               0|        25|                           0|\n",
            "| Norte|    RO|2020-02-05|         0|              0|          0|               0|        25|                           0|\n",
            "| Norte|    RO|2020-02-06|         0|              0|          0|               0|        25|                           0|\n",
            "| Norte|    RO|2020-02-07|         0|              0|          0|               0|        25|                           0|\n",
            "| Norte|    RO|2020-02-08|         0|              0|          0|               0|        25|                           0|\n",
            "| Norte|    RO|2020-02-09|         0|              0|          0|               0|        25|                           0|\n",
            "| Norte|    RO|2020-02-10|         0|              0|          0|               0|        25|                           0|\n",
            "| Norte|    RO|2020-02-11|         0|              0|          0|               0|        25|                           0|\n",
            "| Norte|    RO|2020-02-12|         0|              0|          0|               0|        25|                           0|\n",
            "| Norte|    RO|2020-02-13|         0|              0|          0|               0|        25|                           0|\n",
            "+------+------+----------+----------+---------------+-----------+----------------+----------+----------------------------+\n",
            "only showing top 15 rows\n",
            "\n"
          ]
        }
      ]
    },
    {
      "cell_type": "markdown",
      "metadata": {
        "id": "Whu9QRL3qp-b"
      },
      "source": [
        "**CRIANDO MAIS COLUNAS DE UMA ÚNICA VEZ**"
      ]
    },
    {
      "cell_type": "code",
      "metadata": {
        "colab": {
          "base_uri": "https://localhost:8080/"
        },
        "id": "6DhWz4UrqRRq",
        "outputId": "4d732d14-9c4e-43fd-9afd-c169be5a8c38"
      },
      "source": [
        "df1 = df1.withColumn(\"coluna1\", F.lit(\"conteudo 1\")).withColumn(\"coluna2\", F.lit(\"conteudo 2\"))\n",
        "#df1.select(F.col(\"estado\"), F.col(\"data\"), F.col(\"coluna1\"), F.col(\"coluna2\")).show(10)\n",
        "df1.select(df1['estado'], df1['data'], df1['coluna1'], df1['coluna2']).show(10)"
      ],
      "execution_count": 59,
      "outputs": [
        {
          "output_type": "stream",
          "name": "stdout",
          "text": [
            "+------+----------+----------+----------+\n",
            "|estado|      data|   coluna1|   coluna2|\n",
            "+------+----------+----------+----------+\n",
            "|    RO|2020-01-30|conteudo 1|conteudo 2|\n",
            "|    RO|2020-01-31|conteudo 1|conteudo 2|\n",
            "|    RO|2020-02-01|conteudo 1|conteudo 2|\n",
            "|    RO|2020-02-02|conteudo 1|conteudo 2|\n",
            "|    RO|2020-02-03|conteudo 1|conteudo 2|\n",
            "|    RO|2020-02-04|conteudo 1|conteudo 2|\n",
            "|    RO|2020-02-05|conteudo 1|conteudo 2|\n",
            "|    RO|2020-02-06|conteudo 1|conteudo 2|\n",
            "|    RO|2020-02-07|conteudo 1|conteudo 2|\n",
            "|    RO|2020-02-08|conteudo 1|conteudo 2|\n",
            "+------+----------+----------+----------+\n",
            "only showing top 10 rows\n",
            "\n"
          ]
        }
      ]
    },
    {
      "cell_type": "markdown",
      "metadata": {
        "id": "cY1Pft3_svAb"
      },
      "source": [
        "**CRIANDO UM CAST PARA CONVERTER OS VALORES DE INTEGER PARA STRING**"
      ]
    },
    {
      "cell_type": "code",
      "metadata": {
        "colab": {
          "base_uri": "https://localhost:8080/"
        },
        "id": "b-0PsEAArNjr",
        "outputId": "401d26fb-4a63-4174-9ff6-65f84dc7ba94"
      },
      "source": [
        "df3 = df1.selectExpr(\"cast(obitosNovos as string)\")\n",
        "df3.printSchema()"
      ],
      "execution_count": 60,
      "outputs": [
        {
          "output_type": "stream",
          "name": "stdout",
          "text": [
            "root\n",
            " |-- obitosNovos: string (nullable = true)\n",
            "\n"
          ]
        }
      ]
    },
    {
      "cell_type": "code",
      "metadata": {
        "id": "v2DjDGRWs_Bo"
      },
      "source": [
        ""
      ],
      "execution_count": null,
      "outputs": []
    }
  ]
}