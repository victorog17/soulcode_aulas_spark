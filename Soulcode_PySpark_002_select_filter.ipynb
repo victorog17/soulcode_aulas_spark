{
  "nbformat": 4,
  "nbformat_minor": 0,
  "metadata": {
    "colab": {
      "name": "Soulcode_PySpark_002_select_filter.ipynb",
      "provenance": [],
      "collapsed_sections": [],
      "mount_file_id": "1yOYK6jHdsO-6cQ-6-0ewTMIsoiSmSnR6",
      "authorship_tag": "ABX9TyPcN4WzcsdN//YJevEf35p4",
      "include_colab_link": true
    },
    "kernelspec": {
      "name": "python3",
      "display_name": "Python 3"
    },
    "language_info": {
      "name": "python"
    }
  },
  "cells": [
    {
      "cell_type": "markdown",
      "metadata": {
        "id": "view-in-github",
        "colab_type": "text"
      },
      "source": [
        "<a href=\"https://colab.research.google.com/github/victorog17/soulcode_aulas_spark/blob/main/Soulcode_PySpark_002_select_filter.ipynb\" target=\"_parent\"><img src=\"https://colab.research.google.com/assets/colab-badge.svg\" alt=\"Open In Colab\"/></a>"
      ]
    },
    {
      "cell_type": "markdown",
      "metadata": {
        "id": "Dfpp4soz6EPD"
      },
      "source": [
        "**BIBLIOTECAS**"
      ]
    },
    {
      "cell_type": "code",
      "metadata": {
        "id": "6h3Ldjf157iA"
      },
      "source": [
        "pip install pyspark"
      ],
      "execution_count": null,
      "outputs": []
    },
    {
      "cell_type": "code",
      "metadata": {
        "id": "tHuElZGe6P6G"
      },
      "source": [
        "from pyspark.sql import SparkSession\n",
        "import pyspark.sql.functions as F"
      ],
      "execution_count": 2,
      "outputs": []
    },
    {
      "cell_type": "markdown",
      "metadata": {
        "id": "iyAAEM3N6d0q"
      },
      "source": [
        "**CONFIGURAR A NOSSA SPARKSESSION**"
      ]
    },
    {
      "cell_type": "code",
      "metadata": {
        "id": "TanIlqZD6dAR"
      },
      "source": [
        "spark = (SparkSession.builder\\\n",
        "        .master(\"local\")\\\n",
        "        .appName(\"aprendendo-dataframes\")\\\n",
        "        .config(\"spark.ui.port\", \"4050\")\\\n",
        "        .getOrCreate())"
      ],
      "execution_count": 3,
      "outputs": []
    },
    {
      "cell_type": "code",
      "metadata": {
        "colab": {
          "base_uri": "https://localhost:8080/",
          "height": 221
        },
        "id": "pTKCWe6P7lYE",
        "outputId": "8684e57e-fb3f-4701-b868-d32eb43eeccf"
      },
      "source": [
        "spark"
      ],
      "execution_count": 4,
      "outputs": [
        {
          "output_type": "execute_result",
          "data": {
            "text/html": [
              "\n",
              "            <div>\n",
              "                <p><b>SparkSession - in-memory</b></p>\n",
              "                \n",
              "        <div>\n",
              "            <p><b>SparkContext</b></p>\n",
              "\n",
              "            <p><a href=\"http://0ee0e081a206:4050\">Spark UI</a></p>\n",
              "\n",
              "            <dl>\n",
              "              <dt>Version</dt>\n",
              "                <dd><code>v3.2.0</code></dd>\n",
              "              <dt>Master</dt>\n",
              "                <dd><code>local</code></dd>\n",
              "              <dt>AppName</dt>\n",
              "                <dd><code>aprendendo-dataframes</code></dd>\n",
              "            </dl>\n",
              "        </div>\n",
              "        \n",
              "            </div>\n",
              "        "
            ],
            "text/plain": [
              "<pyspark.sql.session.SparkSession at 0x7f4234e76fd0>"
            ]
          },
          "metadata": {},
          "execution_count": 4
        }
      ]
    },
    {
      "cell_type": "markdown",
      "metadata": {
        "id": "LziqCUtH-hCA"
      },
      "source": [
        "**CRIANDO DATAFRAMES NO PYSPARK**"
      ]
    },
    {
      "cell_type": "code",
      "metadata": {
        "colab": {
          "base_uri": "https://localhost:8080/"
        },
        "id": "jQE-5mkq-Axf",
        "outputId": "7afa4b83-fbeb-443a-d4ae-c6450a3bb017"
      },
      "source": [
        "dados = [\n",
        "         (\"João da Silva\", \"São Paulo\", \"SP\", 1100.00),\n",
        "         (\"Maria dos Santos\", \"São Paulo\", \"SP\", 2100.00),\n",
        "         (\"Carlos Victor\", \"Rio de Janeiro\", \"RJ\", 2100.00),\n",
        "         (\"Pedro José\", \"Maceió\", \"AL\", 3600.00)\n",
        "]\n",
        "schema = [\"nome\", \"cidade\", \"estado\", \"salario\"]\n",
        "\n",
        "df = spark.createDataFrame(data=dados, schema=schema)\n",
        "df.show()\n",
        "df.printSchema()"
      ],
      "execution_count": 5,
      "outputs": [
        {
          "output_type": "stream",
          "name": "stdout",
          "text": [
            "+----------------+--------------+------+-------+\n",
            "|            nome|        cidade|estado|salario|\n",
            "+----------------+--------------+------+-------+\n",
            "|   João da Silva|     São Paulo|    SP| 1100.0|\n",
            "|Maria dos Santos|     São Paulo|    SP| 2100.0|\n",
            "|   Carlos Victor|Rio de Janeiro|    RJ| 2100.0|\n",
            "|      Pedro José|        Maceió|    AL| 3600.0|\n",
            "+----------------+--------------+------+-------+\n",
            "\n",
            "root\n",
            " |-- nome: string (nullable = true)\n",
            " |-- cidade: string (nullable = true)\n",
            " |-- estado: string (nullable = true)\n",
            " |-- salario: double (nullable = true)\n",
            "\n"
          ]
        }
      ]
    },
    {
      "cell_type": "markdown",
      "metadata": {
        "id": "o_-M0EzGD4Re"
      },
      "source": [
        "**IMPORTANDO CSV NO PYSPARK**"
      ]
    },
    {
      "cell_type": "code",
      "metadata": {
        "id": "e2CbZaWsBiwi"
      },
      "source": [
        "df2 = (spark\n",
        "      .read\n",
        "      .format(\"csv\")\n",
        "      .option(\"header\", \"true\")\n",
        "      .option(\"inferschema\", \"true\")\n",
        "      .option(\"delimiter\", \";\")\n",
        "      .load(\"/content/drive/MyDrive/Soul_Code_Academy/repositorio_pandas/arquivo_geral.csv\")\n",
        ")"
      ],
      "execution_count": 6,
      "outputs": []
    },
    {
      "cell_type": "code",
      "metadata": {
        "colab": {
          "base_uri": "https://localhost:8080/"
        },
        "id": "p2Zrj_ZXEq9z",
        "outputId": "d85df711-5049-4330-9998-954c2aac6d32"
      },
      "source": [
        "df2.show(5)\n",
        "df2.printSchema()"
      ],
      "execution_count": 7,
      "outputs": [
        {
          "output_type": "stream",
          "name": "stdout",
          "text": [
            "+------+------+----------+----------+---------------+-----------+----------------+\n",
            "|regiao|estado|      data|casosNovos|casosAcumulados|obitosNovos|obitosAcumulados|\n",
            "+------+------+----------+----------+---------------+-----------+----------------+\n",
            "| Norte|    RO|2020-01-30|         0|              0|          0|               0|\n",
            "| Norte|    RO|2020-01-31|         0|              0|          0|               0|\n",
            "| Norte|    RO|2020-02-01|         0|              0|          0|               0|\n",
            "| Norte|    RO|2020-02-02|         0|              0|          0|               0|\n",
            "| Norte|    RO|2020-02-03|         0|              0|          0|               0|\n",
            "+------+------+----------+----------+---------------+-----------+----------------+\n",
            "only showing top 5 rows\n",
            "\n",
            "root\n",
            " |-- regiao: string (nullable = true)\n",
            " |-- estado: string (nullable = true)\n",
            " |-- data: string (nullable = true)\n",
            " |-- casosNovos: integer (nullable = true)\n",
            " |-- casosAcumulados: integer (nullable = true)\n",
            " |-- obitosNovos: integer (nullable = true)\n",
            " |-- obitosAcumulados: integer (nullable = true)\n",
            "\n"
          ]
        }
      ]
    },
    {
      "cell_type": "markdown",
      "metadata": {
        "id": "8a3TWivkLQ8w"
      },
      "source": [
        "**COMANDOS SELECT E FILTER**"
      ]
    },
    {
      "cell_type": "code",
      "metadata": {
        "colab": {
          "base_uri": "https://localhost:8080/"
        },
        "id": "2dnqCb9JEvP1",
        "outputId": "cac25e50-9db1-4dc5-aaa7-6b065f7831c3"
      },
      "source": [
        "#SELECT - 1ª FORMA DE UTILIZAÇÃO\n",
        "df2.select(\"regiao\", \"estado\", \"data\", \"casosNovos\").show(15)"
      ],
      "execution_count": 8,
      "outputs": [
        {
          "output_type": "stream",
          "name": "stdout",
          "text": [
            "+------+------+----------+----------+\n",
            "|regiao|estado|      data|casosNovos|\n",
            "+------+------+----------+----------+\n",
            "| Norte|    RO|2020-01-30|         0|\n",
            "| Norte|    RO|2020-01-31|         0|\n",
            "| Norte|    RO|2020-02-01|         0|\n",
            "| Norte|    RO|2020-02-02|         0|\n",
            "| Norte|    RO|2020-02-03|         0|\n",
            "| Norte|    RO|2020-02-04|         0|\n",
            "| Norte|    RO|2020-02-05|         0|\n",
            "| Norte|    RO|2020-02-06|         0|\n",
            "| Norte|    RO|2020-02-07|         0|\n",
            "| Norte|    RO|2020-02-08|         0|\n",
            "| Norte|    RO|2020-02-09|         0|\n",
            "| Norte|    RO|2020-02-10|         0|\n",
            "| Norte|    RO|2020-02-11|         0|\n",
            "| Norte|    RO|2020-02-12|         0|\n",
            "| Norte|    RO|2020-02-13|         0|\n",
            "+------+------+----------+----------+\n",
            "only showing top 15 rows\n",
            "\n"
          ]
        }
      ]
    },
    {
      "cell_type": "markdown",
      "metadata": {
        "id": "tIBu3hPLMqgb"
      },
      "source": [
        "**UTILIZANDO AS FUNCTIONS PARA TRABALHAR COM COLUNAS**"
      ]
    },
    {
      "cell_type": "code",
      "metadata": {
        "colab": {
          "base_uri": "https://localhost:8080/"
        },
        "id": "qc1H7zanLx6N",
        "outputId": "9bd1d90f-798e-4338-a03e-857a62801c17"
      },
      "source": [
        "#SELECT - 2ª FORMA DE UTILIZAÇÃO\n",
        "df2.select(F.col(\"regiao\"), F.col(\"estado\"), F.col(\"data\"), F.col(\"casosNovos\")).show(20)"
      ],
      "execution_count": 9,
      "outputs": [
        {
          "output_type": "stream",
          "name": "stdout",
          "text": [
            "+------+------+----------+----------+\n",
            "|regiao|estado|      data|casosNovos|\n",
            "+------+------+----------+----------+\n",
            "| Norte|    RO|2020-01-30|         0|\n",
            "| Norte|    RO|2020-01-31|         0|\n",
            "| Norte|    RO|2020-02-01|         0|\n",
            "| Norte|    RO|2020-02-02|         0|\n",
            "| Norte|    RO|2020-02-03|         0|\n",
            "| Norte|    RO|2020-02-04|         0|\n",
            "| Norte|    RO|2020-02-05|         0|\n",
            "| Norte|    RO|2020-02-06|         0|\n",
            "| Norte|    RO|2020-02-07|         0|\n",
            "| Norte|    RO|2020-02-08|         0|\n",
            "| Norte|    RO|2020-02-09|         0|\n",
            "| Norte|    RO|2020-02-10|         0|\n",
            "| Norte|    RO|2020-02-11|         0|\n",
            "| Norte|    RO|2020-02-12|         0|\n",
            "| Norte|    RO|2020-02-13|         0|\n",
            "| Norte|    RO|2020-02-14|         0|\n",
            "| Norte|    RO|2020-02-15|         0|\n",
            "| Norte|    RO|2020-02-16|         0|\n",
            "| Norte|    RO|2020-02-17|         0|\n",
            "| Norte|    RO|2020-02-18|         0|\n",
            "+------+------+----------+----------+\n",
            "only showing top 20 rows\n",
            "\n"
          ]
        }
      ]
    },
    {
      "cell_type": "markdown",
      "metadata": {
        "id": "eyrUc5YgNojT"
      },
      "source": [
        "**1ª MANEIRA - EXIBIR A REGIÃO, ESTADOS E CASOS NOVOS APENAS DA REGIÃO NORTE**"
      ]
    },
    {
      "cell_type": "code",
      "metadata": {
        "colab": {
          "base_uri": "https://localhost:8080/"
        },
        "id": "uPNY-g8nNISm",
        "outputId": "dbfba9c5-5222-4178-d0f3-67b5176a2096"
      },
      "source": [
        "df2.select(F.col(\"regiao\"), F.col(\"estado\"), F.col(\"casosNovos\")).filter(F.col(\"regiao\") == \"Sul\").show(12)"
      ],
      "execution_count": 10,
      "outputs": [
        {
          "output_type": "stream",
          "name": "stdout",
          "text": [
            "+------+------+----------+\n",
            "|regiao|estado|casosNovos|\n",
            "+------+------+----------+\n",
            "|   Sul|    PR|         0|\n",
            "|   Sul|    PR|         0|\n",
            "|   Sul|    PR|         0|\n",
            "|   Sul|    PR|         0|\n",
            "|   Sul|    PR|         0|\n",
            "|   Sul|    PR|         0|\n",
            "|   Sul|    PR|         0|\n",
            "|   Sul|    PR|         0|\n",
            "|   Sul|    PR|         0|\n",
            "|   Sul|    PR|         0|\n",
            "|   Sul|    PR|         0|\n",
            "|   Sul|    PR|         0|\n",
            "+------+------+----------+\n",
            "only showing top 12 rows\n",
            "\n"
          ]
        }
      ]
    },
    {
      "cell_type": "code",
      "metadata": {
        "colab": {
          "base_uri": "https://localhost:8080/"
        },
        "id": "6ZQkx5lNQ_M9",
        "outputId": "1dc93fba-2aeb-4fe5-eedf-607599285779"
      },
      "source": [
        "print(f'Rows: {df2.count()} | Columns: {len(df2.columns)}')"
      ],
      "execution_count": 11,
      "outputs": [
        {
          "output_type": "stream",
          "name": "stdout",
          "text": [
            "Rows: 2349 | Columns: 7\n"
          ]
        }
      ]
    },
    {
      "cell_type": "markdown",
      "metadata": {
        "id": "FJEhNPvgVShc"
      },
      "source": [
        "**2ª MANEIRA - EXIBIR A REGIÃO, ESTADOS E CASOS NOVOS APENAS DA REGIÃO NORTE**"
      ]
    },
    {
      "cell_type": "code",
      "metadata": {
        "colab": {
          "base_uri": "https://localhost:8080/"
        },
        "id": "dw-4KxVSQ1n-",
        "outputId": "5b17774a-e005-4480-df6a-f6fa0f7cdfdc"
      },
      "source": [
        "df2.select(F.col(\"regiao\"), \n",
        "           F.col(\"estado\"), \n",
        "           F.col(\"casosNovos\")).filter(df2[\"regiao\"] == \"Nordeste\").show(13)"
      ],
      "execution_count": 12,
      "outputs": [
        {
          "output_type": "stream",
          "name": "stdout",
          "text": [
            "+--------+------+----------+\n",
            "|  regiao|estado|casosNovos|\n",
            "+--------+------+----------+\n",
            "|Nordeste|    MA|         0|\n",
            "|Nordeste|    MA|         0|\n",
            "|Nordeste|    MA|         0|\n",
            "|Nordeste|    MA|         0|\n",
            "|Nordeste|    MA|         0|\n",
            "|Nordeste|    MA|         0|\n",
            "|Nordeste|    MA|         0|\n",
            "|Nordeste|    MA|         0|\n",
            "|Nordeste|    MA|         0|\n",
            "|Nordeste|    MA|         0|\n",
            "|Nordeste|    MA|         0|\n",
            "|Nordeste|    MA|         0|\n",
            "|Nordeste|    MA|         0|\n",
            "+--------+------+----------+\n",
            "only showing top 13 rows\n",
            "\n"
          ]
        }
      ]
    },
    {
      "cell_type": "markdown",
      "metadata": {
        "id": "Fph4q1YOWZYk"
      },
      "source": [
        "**3ª MANEIRA - EXIBIR A REGIÃO, ESTADOS E CASOS NOVOS APENAS DA REGIÃO NORTE**"
      ]
    },
    {
      "cell_type": "code",
      "metadata": {
        "colab": {
          "base_uri": "https://localhost:8080/"
        },
        "id": "_oBG9hOWVdp8",
        "outputId": "27126688-7549-456d-f150-a03940d0433a"
      },
      "source": [
        "df2.select(F.col(\"regiao\"), \n",
        "           F.col(\"estado\"), \n",
        "           F.col(\"casosNovos\")).filter(\"regiao = 'Sudeste'\").show(14)"
      ],
      "execution_count": 13,
      "outputs": [
        {
          "output_type": "stream",
          "name": "stdout",
          "text": [
            "+-------+------+----------+\n",
            "| regiao|estado|casosNovos|\n",
            "+-------+------+----------+\n",
            "|Sudeste|    MG|         0|\n",
            "|Sudeste|    MG|         0|\n",
            "|Sudeste|    MG|         0|\n",
            "|Sudeste|    MG|         0|\n",
            "|Sudeste|    MG|         0|\n",
            "|Sudeste|    MG|         0|\n",
            "|Sudeste|    MG|         0|\n",
            "|Sudeste|    MG|         0|\n",
            "|Sudeste|    MG|         0|\n",
            "|Sudeste|    MG|         0|\n",
            "|Sudeste|    MG|         0|\n",
            "|Sudeste|    MG|         0|\n",
            "|Sudeste|    MG|         0|\n",
            "|Sudeste|    MG|         0|\n",
            "+-------+------+----------+\n",
            "only showing top 14 rows\n",
            "\n"
          ]
        }
      ]
    },
    {
      "cell_type": "markdown",
      "metadata": {
        "id": "9LMQKCT7Wz2H"
      },
      "source": [
        "**4ª MANEIRA - EXIBIR A REGIÃO, ESTADOS E CASOS NOVOS APENAS DA REGIÃO NORTE**"
      ]
    },
    {
      "cell_type": "code",
      "metadata": {
        "colab": {
          "base_uri": "https://localhost:8080/"
        },
        "id": "HyH7wkdEWw_w",
        "outputId": "085d72e1-dc53-4051-f8a0-acec58abd718"
      },
      "source": [
        "filtro = F.col(\"regiao\") == \"Sul\"\n",
        "df2.select(F.col(\"regiao\"), F.col(\"estado\"), F.col(\"casosNovos\")).filter(filtro).show(15)"
      ],
      "execution_count": 14,
      "outputs": [
        {
          "output_type": "stream",
          "name": "stdout",
          "text": [
            "+------+------+----------+\n",
            "|regiao|estado|casosNovos|\n",
            "+------+------+----------+\n",
            "|   Sul|    PR|         0|\n",
            "|   Sul|    PR|         0|\n",
            "|   Sul|    PR|         0|\n",
            "|   Sul|    PR|         0|\n",
            "|   Sul|    PR|         0|\n",
            "|   Sul|    PR|         0|\n",
            "|   Sul|    PR|         0|\n",
            "|   Sul|    PR|         0|\n",
            "|   Sul|    PR|         0|\n",
            "|   Sul|    PR|         0|\n",
            "|   Sul|    PR|         0|\n",
            "|   Sul|    PR|         0|\n",
            "|   Sul|    PR|         0|\n",
            "|   Sul|    PR|         0|\n",
            "|   Sul|    PR|         0|\n",
            "+------+------+----------+\n",
            "only showing top 15 rows\n",
            "\n"
          ]
        }
      ]
    },
    {
      "cell_type": "markdown",
      "metadata": {
        "id": "7zNltpkwXSfY"
      },
      "source": [
        "**CRIANDO UMA LISTA DINÂMICA COM VÁRIAS COLUNAS PARA SE UTILIZAR DENTRO DO COMANDO SELECT**"
      ]
    },
    {
      "cell_type": "code",
      "metadata": {
        "colab": {
          "base_uri": "https://localhost:8080/"
        },
        "id": "XIqkQ9qOXHNV",
        "outputId": "51d20b5f-d2c3-4281-a2cb-491da52c9a75"
      },
      "source": [
        "lista_colunas = [\"regiao\", \"estado\", \"casosNovos\", \"obitosNovos\", \"obitosAcumulados\"]\n",
        "df2.select(lista_colunas).show(16)\n",
        "df2.printSchema()"
      ],
      "execution_count": 15,
      "outputs": [
        {
          "output_type": "stream",
          "name": "stdout",
          "text": [
            "+------+------+----------+-----------+----------------+\n",
            "|regiao|estado|casosNovos|obitosNovos|obitosAcumulados|\n",
            "+------+------+----------+-----------+----------------+\n",
            "| Norte|    RO|         0|          0|               0|\n",
            "| Norte|    RO|         0|          0|               0|\n",
            "| Norte|    RO|         0|          0|               0|\n",
            "| Norte|    RO|         0|          0|               0|\n",
            "| Norte|    RO|         0|          0|               0|\n",
            "| Norte|    RO|         0|          0|               0|\n",
            "| Norte|    RO|         0|          0|               0|\n",
            "| Norte|    RO|         0|          0|               0|\n",
            "| Norte|    RO|         0|          0|               0|\n",
            "| Norte|    RO|         0|          0|               0|\n",
            "| Norte|    RO|         0|          0|               0|\n",
            "| Norte|    RO|         0|          0|               0|\n",
            "| Norte|    RO|         0|          0|               0|\n",
            "| Norte|    RO|         0|          0|               0|\n",
            "| Norte|    RO|         0|          0|               0|\n",
            "| Norte|    RO|         0|          0|               0|\n",
            "+------+------+----------+-----------+----------------+\n",
            "only showing top 16 rows\n",
            "\n",
            "root\n",
            " |-- regiao: string (nullable = true)\n",
            " |-- estado: string (nullable = true)\n",
            " |-- data: string (nullable = true)\n",
            " |-- casosNovos: integer (nullable = true)\n",
            " |-- casosAcumulados: integer (nullable = true)\n",
            " |-- obitosNovos: integer (nullable = true)\n",
            " |-- obitosAcumulados: integer (nullable = true)\n",
            "\n"
          ]
        }
      ]
    },
    {
      "cell_type": "markdown",
      "metadata": {
        "id": "c1bb1tx_YG2a"
      },
      "source": [
        "**APLICAR MAIS DE UM FILTRO DENTRO DO DATAFRAME**"
      ]
    },
    {
      "cell_type": "code",
      "metadata": {
        "colab": {
          "base_uri": "https://localhost:8080/"
        },
        "id": "tfVFq2KcXm7J",
        "outputId": "cf658be6-cbc7-450d-c8e4-12c4c2548b5e"
      },
      "source": [
        "#FAZER FILTRAGEM PELA REGIÃO NORTE E ESTADO DO AMAZONAS\n",
        "df2.select(F.col(\"regiao\"), \n",
        "           F.col(\"estado\")).filter(F.col(\"regiao\") == \"Norte\").filter(F.col(\"estado\") == \"AM\").show(17)"
      ],
      "execution_count": 16,
      "outputs": [
        {
          "output_type": "stream",
          "name": "stdout",
          "text": [
            "+------+------+\n",
            "|regiao|estado|\n",
            "+------+------+\n",
            "| Norte|    AM|\n",
            "| Norte|    AM|\n",
            "| Norte|    AM|\n",
            "| Norte|    AM|\n",
            "| Norte|    AM|\n",
            "| Norte|    AM|\n",
            "| Norte|    AM|\n",
            "| Norte|    AM|\n",
            "| Norte|    AM|\n",
            "| Norte|    AM|\n",
            "| Norte|    AM|\n",
            "| Norte|    AM|\n",
            "| Norte|    AM|\n",
            "| Norte|    AM|\n",
            "| Norte|    AM|\n",
            "| Norte|    AM|\n",
            "| Norte|    AM|\n",
            "+------+------+\n",
            "only showing top 17 rows\n",
            "\n"
          ]
        }
      ]
    },
    {
      "cell_type": "code",
      "metadata": {
        "colab": {
          "base_uri": "https://localhost:8080/"
        },
        "id": "fK7gD3NcZG3P",
        "outputId": "afd788c4-1c2e-4e9f-8fd8-9c4fdf83db20"
      },
      "source": [
        "filtro01 = F.col(\"regiao\") == \"Norte\"\n",
        "filtro02 = F.col(\"estado\") == \"AM\"\n",
        "df2.select(F.col(\"regiao\"), \n",
        "           F.col(\"estado\")).filter(filtro01 & filtro02).show(17)"
      ],
      "execution_count": 17,
      "outputs": [
        {
          "output_type": "stream",
          "name": "stdout",
          "text": [
            "+------+------+\n",
            "|regiao|estado|\n",
            "+------+------+\n",
            "| Norte|    AM|\n",
            "| Norte|    AM|\n",
            "| Norte|    AM|\n",
            "| Norte|    AM|\n",
            "| Norte|    AM|\n",
            "| Norte|    AM|\n",
            "| Norte|    AM|\n",
            "| Norte|    AM|\n",
            "| Norte|    AM|\n",
            "| Norte|    AM|\n",
            "| Norte|    AM|\n",
            "| Norte|    AM|\n",
            "| Norte|    AM|\n",
            "| Norte|    AM|\n",
            "| Norte|    AM|\n",
            "| Norte|    AM|\n",
            "| Norte|    AM|\n",
            "+------+------+\n",
            "only showing top 17 rows\n",
            "\n"
          ]
        }
      ]
    },
    {
      "cell_type": "code",
      "metadata": {
        "colab": {
          "base_uri": "https://localhost:8080/"
        },
        "id": "KY0G_jIvZW2D",
        "outputId": "45ec8154-b090-4ce8-e092-453f9ee74398"
      },
      "source": [
        "df2.filter(F.col(\"regiao\") == \"Norte\").filter(F.col(\"estado\") == \"AM\").show(18)"
      ],
      "execution_count": 18,
      "outputs": [
        {
          "output_type": "stream",
          "name": "stdout",
          "text": [
            "+------+------+----------+----------+---------------+-----------+----------------+\n",
            "|regiao|estado|      data|casosNovos|casosAcumulados|obitosNovos|obitosAcumulados|\n",
            "+------+------+----------+----------+---------------+-----------+----------------+\n",
            "| Norte|    AM|2020-01-30|         0|              0|          0|               0|\n",
            "| Norte|    AM|2020-01-31|         0|              0|          0|               0|\n",
            "| Norte|    AM|2020-02-01|         0|              0|          0|               0|\n",
            "| Norte|    AM|2020-02-02|         0|              0|          0|               0|\n",
            "| Norte|    AM|2020-02-03|         0|              0|          0|               0|\n",
            "| Norte|    AM|2020-02-04|         0|              0|          0|               0|\n",
            "| Norte|    AM|2020-02-05|         0|              0|          0|               0|\n",
            "| Norte|    AM|2020-02-06|         0|              0|          0|               0|\n",
            "| Norte|    AM|2020-02-07|         0|              0|          0|               0|\n",
            "| Norte|    AM|2020-02-08|         0|              0|          0|               0|\n",
            "| Norte|    AM|2020-02-09|         0|              0|          0|               0|\n",
            "| Norte|    AM|2020-02-10|         0|              0|          0|               0|\n",
            "| Norte|    AM|2020-02-11|         0|              0|          0|               0|\n",
            "| Norte|    AM|2020-02-12|         0|              0|          0|               0|\n",
            "| Norte|    AM|2020-02-13|         0|              0|          0|               0|\n",
            "| Norte|    AM|2020-02-14|         0|              0|          0|               0|\n",
            "| Norte|    AM|2020-02-15|         0|              0|          0|               0|\n",
            "| Norte|    AM|2020-02-16|         0|              0|          0|               0|\n",
            "+------+------+----------+----------+---------------+-----------+----------------+\n",
            "only showing top 18 rows\n",
            "\n"
          ]
        }
      ]
    },
    {
      "cell_type": "code",
      "metadata": {
        "id": "3J--QbPe0VgV"
      },
      "source": [
        "df2.filter(F.col(\"regiao\") == \"Nordeste\").filter(F.col(\"estado\") == \"BA\").show(df2.count())"
      ],
      "execution_count": null,
      "outputs": []
    },
    {
      "cell_type": "markdown",
      "metadata": {
        "id": "YZdPF_v9_mXP"
      },
      "source": [
        "**SEGUNDA MANEIRA DE SE UTILIZAR O FILTER MAIS DE UMA VEZ**\n",
        "\n"
      ]
    },
    {
      "cell_type": "code",
      "metadata": {
        "colab": {
          "base_uri": "https://localhost:8080/"
        },
        "id": "DJkW8yW1-LeG",
        "outputId": "8ea64dc8-0214-4cdc-99ce-81f7d48ceba3"
      },
      "source": [
        "df2.filter(\"regiao = 'Norte' and estado = 'AM'\").show(10)\n",
        "df2.filter(\"regiao = 'Norte' or estado = 'AM'\").show(10)"
      ],
      "execution_count": 25,
      "outputs": [
        {
          "output_type": "stream",
          "name": "stdout",
          "text": [
            "+------+------+----------+----------+---------------+-----------+----------------+\n",
            "|regiao|estado|      data|casosNovos|casosAcumulados|obitosNovos|obitosAcumulados|\n",
            "+------+------+----------+----------+---------------+-----------+----------------+\n",
            "| Norte|    AM|2020-01-30|         0|              0|          0|               0|\n",
            "| Norte|    AM|2020-01-31|         0|              0|          0|               0|\n",
            "| Norte|    AM|2020-02-01|         0|              0|          0|               0|\n",
            "| Norte|    AM|2020-02-02|         0|              0|          0|               0|\n",
            "| Norte|    AM|2020-02-03|         0|              0|          0|               0|\n",
            "| Norte|    AM|2020-02-04|         0|              0|          0|               0|\n",
            "| Norte|    AM|2020-02-05|         0|              0|          0|               0|\n",
            "| Norte|    AM|2020-02-06|         0|              0|          0|               0|\n",
            "| Norte|    AM|2020-02-07|         0|              0|          0|               0|\n",
            "| Norte|    AM|2020-02-08|         0|              0|          0|               0|\n",
            "+------+------+----------+----------+---------------+-----------+----------------+\n",
            "only showing top 10 rows\n",
            "\n",
            "+------+------+----------+----------+---------------+-----------+----------------+\n",
            "|regiao|estado|      data|casosNovos|casosAcumulados|obitosNovos|obitosAcumulados|\n",
            "+------+------+----------+----------+---------------+-----------+----------------+\n",
            "| Norte|    RO|2020-01-30|         0|              0|          0|               0|\n",
            "| Norte|    RO|2020-01-31|         0|              0|          0|               0|\n",
            "| Norte|    RO|2020-02-01|         0|              0|          0|               0|\n",
            "| Norte|    RO|2020-02-02|         0|              0|          0|               0|\n",
            "| Norte|    RO|2020-02-03|         0|              0|          0|               0|\n",
            "| Norte|    RO|2020-02-04|         0|              0|          0|               0|\n",
            "| Norte|    RO|2020-02-05|         0|              0|          0|               0|\n",
            "| Norte|    RO|2020-02-06|         0|              0|          0|               0|\n",
            "| Norte|    RO|2020-02-07|         0|              0|          0|               0|\n",
            "| Norte|    RO|2020-02-08|         0|              0|          0|               0|\n",
            "+------+------+----------+----------+---------------+-----------+----------------+\n",
            "only showing top 10 rows\n",
            "\n"
          ]
        }
      ]
    },
    {
      "cell_type": "markdown",
      "metadata": {
        "id": "gEFiIDv9AjIT"
      },
      "source": [
        "**TERCEIRA MANEIRA DE SE UTILIZAR O FILTER MAIS DE UMA VEZ**"
      ]
    },
    {
      "cell_type": "code",
      "metadata": {
        "colab": {
          "base_uri": "https://localhost:8080/"
        },
        "id": "Mjj6CUoAAe03",
        "outputId": "6249e42b-501d-4fd9-aff3-19d8c90a754b"
      },
      "source": [
        "df2.filter((F.col(\"regiao\") == 'Norte') & (F.col(\"estado\") == 'AM')).show(10)\n",
        "df2.filter((F.col(\"regiao\") == 'Norte') | (F.col(\"estado\") == 'AM')).show(10)"
      ],
      "execution_count": 26,
      "outputs": [
        {
          "output_type": "stream",
          "name": "stdout",
          "text": [
            "+------+------+----------+----------+---------------+-----------+----------------+\n",
            "|regiao|estado|      data|casosNovos|casosAcumulados|obitosNovos|obitosAcumulados|\n",
            "+------+------+----------+----------+---------------+-----------+----------------+\n",
            "| Norte|    AM|2020-01-30|         0|              0|          0|               0|\n",
            "| Norte|    AM|2020-01-31|         0|              0|          0|               0|\n",
            "| Norte|    AM|2020-02-01|         0|              0|          0|               0|\n",
            "| Norte|    AM|2020-02-02|         0|              0|          0|               0|\n",
            "| Norte|    AM|2020-02-03|         0|              0|          0|               0|\n",
            "| Norte|    AM|2020-02-04|         0|              0|          0|               0|\n",
            "| Norte|    AM|2020-02-05|         0|              0|          0|               0|\n",
            "| Norte|    AM|2020-02-06|         0|              0|          0|               0|\n",
            "| Norte|    AM|2020-02-07|         0|              0|          0|               0|\n",
            "| Norte|    AM|2020-02-08|         0|              0|          0|               0|\n",
            "+------+------+----------+----------+---------------+-----------+----------------+\n",
            "only showing top 10 rows\n",
            "\n",
            "+------+------+----------+----------+---------------+-----------+----------------+\n",
            "|regiao|estado|      data|casosNovos|casosAcumulados|obitosNovos|obitosAcumulados|\n",
            "+------+------+----------+----------+---------------+-----------+----------------+\n",
            "| Norte|    RO|2020-01-30|         0|              0|          0|               0|\n",
            "| Norte|    RO|2020-01-31|         0|              0|          0|               0|\n",
            "| Norte|    RO|2020-02-01|         0|              0|          0|               0|\n",
            "| Norte|    RO|2020-02-02|         0|              0|          0|               0|\n",
            "| Norte|    RO|2020-02-03|         0|              0|          0|               0|\n",
            "| Norte|    RO|2020-02-04|         0|              0|          0|               0|\n",
            "| Norte|    RO|2020-02-05|         0|              0|          0|               0|\n",
            "| Norte|    RO|2020-02-06|         0|              0|          0|               0|\n",
            "| Norte|    RO|2020-02-07|         0|              0|          0|               0|\n",
            "| Norte|    RO|2020-02-08|         0|              0|          0|               0|\n",
            "+------+------+----------+----------+---------------+-----------+----------------+\n",
            "only showing top 10 rows\n",
            "\n"
          ]
        }
      ]
    },
    {
      "cell_type": "markdown",
      "metadata": {
        "id": "65fnD3esAwCf"
      },
      "source": [
        "**QUARTA MANEIRA DE SE UTILIZAR O FILTER MAIS DE UMA VEZ**"
      ]
    },
    {
      "cell_type": "code",
      "metadata": {
        "colab": {
          "base_uri": "https://localhost:8080/"
        },
        "id": "erNRekseAn0T",
        "outputId": "8b059477-19aa-4610-ee9b-b17da0e0d079"
      },
      "source": [
        "df2.where((F.col(\"regiao\") == \"Sul\") & (F.col(\"estado\") == \"RS\")).show(10)"
      ],
      "execution_count": 27,
      "outputs": [
        {
          "output_type": "stream",
          "name": "stdout",
          "text": [
            "+------+------+----------+----------+---------------+-----------+----------------+\n",
            "|regiao|estado|      data|casosNovos|casosAcumulados|obitosNovos|obitosAcumulados|\n",
            "+------+------+----------+----------+---------------+-----------+----------------+\n",
            "|   Sul|    RS|2020-01-30|         0|              0|          0|               0|\n",
            "|   Sul|    RS|2020-01-31|         0|              0|          0|               0|\n",
            "|   Sul|    RS|2020-02-01|         0|              0|          0|               0|\n",
            "|   Sul|    RS|2020-02-02|         0|              0|          0|               0|\n",
            "|   Sul|    RS|2020-02-03|         0|              0|          0|               0|\n",
            "|   Sul|    RS|2020-02-04|         0|              0|          0|               0|\n",
            "|   Sul|    RS|2020-02-05|         0|              0|          0|               0|\n",
            "|   Sul|    RS|2020-02-06|         0|              0|          0|               0|\n",
            "|   Sul|    RS|2020-02-07|         0|              0|          0|               0|\n",
            "|   Sul|    RS|2020-02-08|         0|              0|          0|               0|\n",
            "+------+------+----------+----------+---------------+-----------+----------------+\n",
            "only showing top 10 rows\n",
            "\n"
          ]
        }
      ]
    },
    {
      "cell_type": "markdown",
      "metadata": {
        "id": "Molpura4BsvZ"
      },
      "source": [
        "**UTILIZANDO LIKE PARA CONSULTAR SUBSTRINGS ESPECÍFICAS DENTRO DE UMA COLUNA**"
      ]
    },
    {
      "cell_type": "code",
      "metadata": {
        "colab": {
          "base_uri": "https://localhost:8080/"
        },
        "id": "IwoOey7_BQIz",
        "outputId": "173443a3-de74-4e04-d226-bb619a2b3da7"
      },
      "source": [
        "df2.where((F.col(\"regiao\") == \"Norte\")).filter(\"estado like 'R%'\").show(19)"
      ],
      "execution_count": 29,
      "outputs": [
        {
          "output_type": "stream",
          "name": "stdout",
          "text": [
            "+------+------+----------+----------+---------------+-----------+----------------+\n",
            "|regiao|estado|      data|casosNovos|casosAcumulados|obitosNovos|obitosAcumulados|\n",
            "+------+------+----------+----------+---------------+-----------+----------------+\n",
            "| Norte|    RO|2020-01-30|         0|              0|          0|               0|\n",
            "| Norte|    RO|2020-01-31|         0|              0|          0|               0|\n",
            "| Norte|    RO|2020-02-01|         0|              0|          0|               0|\n",
            "| Norte|    RO|2020-02-02|         0|              0|          0|               0|\n",
            "| Norte|    RO|2020-02-03|         0|              0|          0|               0|\n",
            "| Norte|    RO|2020-02-04|         0|              0|          0|               0|\n",
            "| Norte|    RO|2020-02-05|         0|              0|          0|               0|\n",
            "| Norte|    RO|2020-02-06|         0|              0|          0|               0|\n",
            "| Norte|    RO|2020-02-07|         0|              0|          0|               0|\n",
            "| Norte|    RO|2020-02-08|         0|              0|          0|               0|\n",
            "| Norte|    RO|2020-02-09|         0|              0|          0|               0|\n",
            "| Norte|    RO|2020-02-10|         0|              0|          0|               0|\n",
            "| Norte|    RO|2020-02-11|         0|              0|          0|               0|\n",
            "| Norte|    RO|2020-02-12|         0|              0|          0|               0|\n",
            "| Norte|    RO|2020-02-13|         0|              0|          0|               0|\n",
            "| Norte|    RO|2020-02-14|         0|              0|          0|               0|\n",
            "| Norte|    RO|2020-02-15|         0|              0|          0|               0|\n",
            "| Norte|    RO|2020-02-16|         0|              0|          0|               0|\n",
            "| Norte|    RO|2020-02-17|         0|              0|          0|               0|\n",
            "+------+------+----------+----------+---------------+-----------+----------------+\n",
            "only showing top 19 rows\n",
            "\n"
          ]
        }
      ]
    },
    {
      "cell_type": "code",
      "metadata": {
        "colab": {
          "base_uri": "https://localhost:8080/"
        },
        "id": "EgmPj0LJCLXT",
        "outputId": "0ca4ad84-26d0-4671-aa8c-92e122e329ee"
      },
      "source": [
        "df2.filter(\"regiao like 'S%'\").show(10)"
      ],
      "execution_count": 30,
      "outputs": [
        {
          "output_type": "stream",
          "name": "stdout",
          "text": [
            "+-------+------+----------+----------+---------------+-----------+----------------+\n",
            "| regiao|estado|      data|casosNovos|casosAcumulados|obitosNovos|obitosAcumulados|\n",
            "+-------+------+----------+----------+---------------+-----------+----------------+\n",
            "|Sudeste|    MG|2020-01-30|         0|              0|          0|               0|\n",
            "|Sudeste|    MG|2020-01-31|         0|              0|          0|               0|\n",
            "|Sudeste|    MG|2020-02-01|         0|              0|          0|               0|\n",
            "|Sudeste|    MG|2020-02-02|         0|              0|          0|               0|\n",
            "|Sudeste|    MG|2020-02-03|         0|              0|          0|               0|\n",
            "|Sudeste|    MG|2020-02-04|         0|              0|          0|               0|\n",
            "|Sudeste|    MG|2020-02-05|         0|              0|          0|               0|\n",
            "|Sudeste|    MG|2020-02-06|         0|              0|          0|               0|\n",
            "|Sudeste|    MG|2020-02-07|         0|              0|          0|               0|\n",
            "|Sudeste|    MG|2020-02-08|         0|              0|          0|               0|\n",
            "+-------+------+----------+----------+---------------+-----------+----------------+\n",
            "only showing top 10 rows\n",
            "\n"
          ]
        }
      ]
    },
    {
      "cell_type": "markdown",
      "metadata": {
        "id": "TxcZBhDSDjEL"
      },
      "source": [
        "**OUTRA FORMA DE UTILIZAR O FILTRO COM MAIS DE UMA CONDIÇÃO**"
      ]
    },
    {
      "cell_type": "code",
      "metadata": {
        "colab": {
          "base_uri": "https://localhost:8080/"
        },
        "id": "44r4F8OkDJ_j",
        "outputId": "5385ea8b-73e6-43f6-b965-696a1a527e52"
      },
      "source": [
        "df2.filter(\"regiao in ('Norte', 'Sul')\").show(10)"
      ],
      "execution_count": 32,
      "outputs": [
        {
          "output_type": "stream",
          "name": "stdout",
          "text": [
            "+------+------+----------+----------+---------------+-----------+----------------+\n",
            "|regiao|estado|      data|casosNovos|casosAcumulados|obitosNovos|obitosAcumulados|\n",
            "+------+------+----------+----------+---------------+-----------+----------------+\n",
            "| Norte|    RO|2020-01-30|         0|              0|          0|               0|\n",
            "| Norte|    RO|2020-01-31|         0|              0|          0|               0|\n",
            "| Norte|    RO|2020-02-01|         0|              0|          0|               0|\n",
            "| Norte|    RO|2020-02-02|         0|              0|          0|               0|\n",
            "| Norte|    RO|2020-02-03|         0|              0|          0|               0|\n",
            "| Norte|    RO|2020-02-04|         0|              0|          0|               0|\n",
            "| Norte|    RO|2020-02-05|         0|              0|          0|               0|\n",
            "| Norte|    RO|2020-02-06|         0|              0|          0|               0|\n",
            "| Norte|    RO|2020-02-07|         0|              0|          0|               0|\n",
            "| Norte|    RO|2020-02-08|         0|              0|          0|               0|\n",
            "+------+------+----------+----------+---------------+-----------+----------------+\n",
            "only showing top 10 rows\n",
            "\n"
          ]
        }
      ]
    },
    {
      "cell_type": "markdown",
      "metadata": {
        "id": "Brz6sWnaEWFW"
      },
      "source": [
        "**OUTRA FORMA DE UTILIZAR O FILTRO COM UMA LISTA DE REGIÕES**"
      ]
    },
    {
      "cell_type": "code",
      "metadata": {
        "colab": {
          "base_uri": "https://localhost:8080/"
        },
        "id": "RoQdA9hhDz4t",
        "outputId": "afea99fd-140e-4190-b101-a4c1373cdccc"
      },
      "source": [
        "lista_regiao = ['Norte', 'Sul']\n",
        "df2.filter(F.col(\"regiao\").isin(lista_regiao)).show(10)"
      ],
      "execution_count": 33,
      "outputs": [
        {
          "output_type": "stream",
          "name": "stdout",
          "text": [
            "+------+------+----------+----------+---------------+-----------+----------------+\n",
            "|regiao|estado|      data|casosNovos|casosAcumulados|obitosNovos|obitosAcumulados|\n",
            "+------+------+----------+----------+---------------+-----------+----------------+\n",
            "| Norte|    RO|2020-01-30|         0|              0|          0|               0|\n",
            "| Norte|    RO|2020-01-31|         0|              0|          0|               0|\n",
            "| Norte|    RO|2020-02-01|         0|              0|          0|               0|\n",
            "| Norte|    RO|2020-02-02|         0|              0|          0|               0|\n",
            "| Norte|    RO|2020-02-03|         0|              0|          0|               0|\n",
            "| Norte|    RO|2020-02-04|         0|              0|          0|               0|\n",
            "| Norte|    RO|2020-02-05|         0|              0|          0|               0|\n",
            "| Norte|    RO|2020-02-06|         0|              0|          0|               0|\n",
            "| Norte|    RO|2020-02-07|         0|              0|          0|               0|\n",
            "| Norte|    RO|2020-02-08|         0|              0|          0|               0|\n",
            "+------+------+----------+----------+---------------+-----------+----------------+\n",
            "only showing top 10 rows\n",
            "\n"
          ]
        }
      ]
    },
    {
      "cell_type": "markdown",
      "metadata": {
        "id": "hAO3alogEbP5"
      },
      "source": [
        "**UTILIZANDO O FILTRO DE UMA FORMA PARECIDA COM O LIKE, MAS COM UMA FUNÇÃO ESPECÍFICA**"
      ]
    },
    {
      "cell_type": "code",
      "metadata": {
        "colab": {
          "base_uri": "https://localhost:8080/"
        },
        "id": "gINe2caPEZGx",
        "outputId": "8c420301-6ce9-4a98-f3cd-0cfb30f30c3f"
      },
      "source": [
        "df2.filter(F.col(\"regiao\").startswith(\"Sul\")).show(10)"
      ],
      "execution_count": 35,
      "outputs": [
        {
          "output_type": "stream",
          "name": "stdout",
          "text": [
            "+------+------+----------+----------+---------------+-----------+----------------+\n",
            "|regiao|estado|      data|casosNovos|casosAcumulados|obitosNovos|obitosAcumulados|\n",
            "+------+------+----------+----------+---------------+-----------+----------------+\n",
            "|   Sul|    PR|2020-01-30|         0|              0|          0|               0|\n",
            "|   Sul|    PR|2020-01-31|         0|              0|          0|               0|\n",
            "|   Sul|    PR|2020-02-01|         0|              0|          0|               0|\n",
            "|   Sul|    PR|2020-02-02|         0|              0|          0|               0|\n",
            "|   Sul|    PR|2020-02-03|         0|              0|          0|               0|\n",
            "|   Sul|    PR|2020-02-04|         0|              0|          0|               0|\n",
            "|   Sul|    PR|2020-02-05|         0|              0|          0|               0|\n",
            "|   Sul|    PR|2020-02-06|         0|              0|          0|               0|\n",
            "|   Sul|    PR|2020-02-07|         0|              0|          0|               0|\n",
            "|   Sul|    PR|2020-02-08|         0|              0|          0|               0|\n",
            "+------+------+----------+----------+---------------+-----------+----------------+\n",
            "only showing top 10 rows\n",
            "\n"
          ]
        }
      ]
    },
    {
      "cell_type": "markdown",
      "metadata": {
        "id": "wc-cC6dfEpiH"
      },
      "source": [
        "**UTILIZANDO O LIKE COMO UMA FUNÇÃO**"
      ]
    },
    {
      "cell_type": "code",
      "metadata": {
        "colab": {
          "base_uri": "https://localhost:8080/"
        },
        "id": "y3aIXafkEkX5",
        "outputId": "9f866288-b28b-4fd7-fb5c-7a9e3bf3ec7d"
      },
      "source": [
        "df2.filter(F.col(\"regiao\").like(\"C%\")).show(100)"
      ],
      "execution_count": 36,
      "outputs": [
        {
          "output_type": "stream",
          "name": "stdout",
          "text": [
            "+------------+------+----------+----------+---------------+-----------+----------------+\n",
            "|      regiao|estado|      data|casosNovos|casosAcumulados|obitosNovos|obitosAcumulados|\n",
            "+------------+------+----------+----------+---------------+-----------+----------------+\n",
            "|Centro-Oeste|    MS|2020-01-30|         0|              0|          0|               0|\n",
            "|Centro-Oeste|    MS|2020-01-31|         0|              0|          0|               0|\n",
            "|Centro-Oeste|    MS|2020-02-01|         0|              0|          0|               0|\n",
            "|Centro-Oeste|    MS|2020-02-02|         0|              0|          0|               0|\n",
            "|Centro-Oeste|    MS|2020-02-03|         0|              0|          0|               0|\n",
            "|Centro-Oeste|    MS|2020-02-04|         0|              0|          0|               0|\n",
            "|Centro-Oeste|    MS|2020-02-05|         0|              0|          0|               0|\n",
            "|Centro-Oeste|    MS|2020-02-06|         0|              0|          0|               0|\n",
            "|Centro-Oeste|    MS|2020-02-07|         0|              0|          0|               0|\n",
            "|Centro-Oeste|    MS|2020-02-08|         0|              0|          0|               0|\n",
            "|Centro-Oeste|    MS|2020-02-09|         0|              0|          0|               0|\n",
            "|Centro-Oeste|    MS|2020-02-10|         0|              0|          0|               0|\n",
            "|Centro-Oeste|    MS|2020-02-11|         0|              0|          0|               0|\n",
            "|Centro-Oeste|    MS|2020-02-12|         0|              0|          0|               0|\n",
            "|Centro-Oeste|    MS|2020-02-13|         0|              0|          0|               0|\n",
            "|Centro-Oeste|    MS|2020-02-14|         0|              0|          0|               0|\n",
            "|Centro-Oeste|    MS|2020-02-15|         0|              0|          0|               0|\n",
            "|Centro-Oeste|    MS|2020-02-16|         0|              0|          0|               0|\n",
            "|Centro-Oeste|    MS|2020-02-17|         0|              0|          0|               0|\n",
            "|Centro-Oeste|    MS|2020-02-18|         0|              0|          0|               0|\n",
            "|Centro-Oeste|    MS|2020-02-19|         0|              0|          0|               0|\n",
            "|Centro-Oeste|    MS|2020-02-20|         0|              0|          0|               0|\n",
            "|Centro-Oeste|    MS|2020-02-21|         0|              0|          0|               0|\n",
            "|Centro-Oeste|    MS|2020-02-22|         0|              0|          0|               0|\n",
            "|Centro-Oeste|    MS|2020-02-23|         0|              0|          0|               0|\n",
            "|Centro-Oeste|    MS|2020-02-24|         0|              0|          0|               0|\n",
            "|Centro-Oeste|    MS|2020-02-25|         0|              0|          0|               0|\n",
            "|Centro-Oeste|    MS|2020-02-26|         0|              0|          0|               0|\n",
            "|Centro-Oeste|    MS|2020-02-27|         0|              0|          0|               0|\n",
            "|Centro-Oeste|    MS|2020-02-28|         0|              0|          0|               0|\n",
            "|Centro-Oeste|    MS|2020-02-29|         0|              0|          0|               0|\n",
            "|Centro-Oeste|    MS|2020-03-01|         0|              0|          0|               0|\n",
            "|Centro-Oeste|    MS|2020-03-02|         0|              0|          0|               0|\n",
            "|Centro-Oeste|    MS|2020-03-03|         0|              0|          0|               0|\n",
            "|Centro-Oeste|    MS|2020-03-04|         0|              0|          0|               0|\n",
            "|Centro-Oeste|    MS|2020-03-05|         0|              0|          0|               0|\n",
            "|Centro-Oeste|    MS|2020-03-06|         0|              0|          0|               0|\n",
            "|Centro-Oeste|    MS|2020-03-07|         0|              0|          0|               0|\n",
            "|Centro-Oeste|    MS|2020-03-08|         0|              0|          0|               0|\n",
            "|Centro-Oeste|    MS|2020-03-09|         0|              0|          0|               0|\n",
            "|Centro-Oeste|    MS|2020-03-10|         0|              0|          0|               0|\n",
            "|Centro-Oeste|    MS|2020-03-11|         0|              0|          0|               0|\n",
            "|Centro-Oeste|    MS|2020-03-12|         0|              0|          0|               0|\n",
            "|Centro-Oeste|    MS|2020-03-13|         0|              0|          0|               0|\n",
            "|Centro-Oeste|    MS|2020-03-14|         0|              0|          0|               0|\n",
            "|Centro-Oeste|    MS|2020-03-15|         0|              0|          0|               0|\n",
            "|Centro-Oeste|    MS|2020-03-16|         2|              2|          0|               0|\n",
            "|Centro-Oeste|    MS|2020-03-17|         2|              4|          0|               0|\n",
            "|Centro-Oeste|    MS|2020-03-18|         3|              7|          0|               0|\n",
            "|Centro-Oeste|    MS|2020-03-19|         0|              7|          0|               0|\n",
            "|Centro-Oeste|    MS|2020-03-20|         2|              9|          0|               0|\n",
            "|Centro-Oeste|    MS|2020-03-21|         7|             16|          0|               0|\n",
            "|Centro-Oeste|    MS|2020-03-22|         5|             21|          0|               0|\n",
            "|Centro-Oeste|    MS|2020-03-23|         0|             21|          0|               0|\n",
            "|Centro-Oeste|    MS|2020-03-24|         2|             23|          0|               0|\n",
            "|Centro-Oeste|    MS|2020-03-25|         1|             24|          0|               0|\n",
            "|Centro-Oeste|    MS|2020-03-26|         1|             25|          0|               0|\n",
            "|Centro-Oeste|    MS|2020-03-27|         3|             28|          0|               0|\n",
            "|Centro-Oeste|    MS|2020-03-28|         3|             31|          0|               0|\n",
            "|Centro-Oeste|    MS|2020-03-29|         5|             36|          0|               0|\n",
            "|Centro-Oeste|    MS|2020-03-30|         8|             44|          0|               0|\n",
            "|Centro-Oeste|    MS|2020-03-31|         4|             48|          1|               1|\n",
            "|Centro-Oeste|    MS|2020-04-01|         3|             51|          0|               1|\n",
            "|Centro-Oeste|    MS|2020-04-02|         2|             53|          0|               1|\n",
            "|Centro-Oeste|    MS|2020-04-03|         7|             60|          0|               1|\n",
            "|Centro-Oeste|    MS|2020-04-04|         2|             62|          0|               1|\n",
            "|Centro-Oeste|    MS|2020-04-05|         3|             65|          0|               1|\n",
            "|Centro-Oeste|    MS|2020-04-06|         1|             66|          0|               1|\n",
            "|Centro-Oeste|    MS|2020-04-07|        14|             80|          1|               2|\n",
            "|Centro-Oeste|    MS|2020-04-08|         5|             85|          0|               2|\n",
            "|Centro-Oeste|    MS|2020-04-09|         4|             89|          0|               2|\n",
            "|Centro-Oeste|    MS|2020-04-10|         8|             97|          0|               2|\n",
            "|Centro-Oeste|    MS|2020-04-11|         3|            100|          0|               2|\n",
            "|Centro-Oeste|    MS|2020-04-12|         1|            101|          0|               2|\n",
            "|Centro-Oeste|    MS|2020-04-13|        12|            113|          2|               4|\n",
            "|Centro-Oeste|    MS|2020-04-14|         2|            115|          0|               4|\n",
            "|Centro-Oeste|    MS|2020-04-15|         6|            121|          0|               4|\n",
            "|Centro-Oeste|    MS|2020-04-16|        10|            131|          1|               5|\n",
            "|Centro-Oeste|    MS|2020-04-17|        12|            143|          0|               5|\n",
            "|Centro-Oeste|    MS|2020-04-18|        18|            161|          0|               5|\n",
            "|Centro-Oeste|    MS|2020-04-19|         7|            168|          0|               5|\n",
            "|Centro-Oeste|    MS|2020-04-20|         3|            171|          0|               5|\n",
            "|Centro-Oeste|    MS|2020-04-21|         2|            173|          1|               6|\n",
            "|Centro-Oeste|    MS|2020-04-22|         2|            175|          0|               6|\n",
            "|Centro-Oeste|    MS|2020-04-23|        11|            186|          1|               7|\n",
            "|Centro-Oeste|    MS|2020-04-24|        27|            213|          0|               7|\n",
            "|Centro-Oeste|    MS|2020-04-25|         4|            217|          0|               7|\n",
            "|Centro-Oeste|    MT|2020-01-30|         0|              0|          0|               0|\n",
            "|Centro-Oeste|    MT|2020-01-31|         0|              0|          0|               0|\n",
            "|Centro-Oeste|    MT|2020-02-01|         0|              0|          0|               0|\n",
            "|Centro-Oeste|    MT|2020-02-02|         0|              0|          0|               0|\n",
            "|Centro-Oeste|    MT|2020-02-03|         0|              0|          0|               0|\n",
            "|Centro-Oeste|    MT|2020-02-04|         0|              0|          0|               0|\n",
            "|Centro-Oeste|    MT|2020-02-05|         0|              0|          0|               0|\n",
            "|Centro-Oeste|    MT|2020-02-06|         0|              0|          0|               0|\n",
            "|Centro-Oeste|    MT|2020-02-07|         0|              0|          0|               0|\n",
            "|Centro-Oeste|    MT|2020-02-08|         0|              0|          0|               0|\n",
            "|Centro-Oeste|    MT|2020-02-09|         0|              0|          0|               0|\n",
            "|Centro-Oeste|    MT|2020-02-10|         0|              0|          0|               0|\n",
            "|Centro-Oeste|    MT|2020-02-11|         0|              0|          0|               0|\n",
            "+------------+------+----------+----------+---------------+-----------+----------------+\n",
            "only showing top 100 rows\n",
            "\n"
          ]
        }
      ]
    },
    {
      "cell_type": "code",
      "metadata": {
        "id": "4NFiS_adEvrZ"
      },
      "source": [
        ""
      ],
      "execution_count": null,
      "outputs": []
    }
  ]
}